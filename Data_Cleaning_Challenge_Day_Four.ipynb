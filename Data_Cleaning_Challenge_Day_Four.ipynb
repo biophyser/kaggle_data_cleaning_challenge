{
 "cells": [
  {
   "cell_type": "markdown",
   "metadata": {},
   "source": [
    "# Character Encodings\n",
    "## Table of Contents <a id='TOC'></a>\n",
    "- [Package Import](#package-import)\n",
    "- [What are encodings?](#encodings)\n",
    "- [Reading file with encoding problems](#data-import)\n",
    " - [Using `chardet` to figure out encoding](#chardet)\n",
    " - [My turn](#my-turn)\n",
    "- [Saving files with UTF-8 encoding](#saving-files)\n",
    "- [More Practice](#more-practice)"
   ]
  },
  {
   "cell_type": "markdown",
   "metadata": {},
   "source": [
    "## Package Import <a id='package-import'></a>\n",
    "[TOC](#TOC)"
   ]
  },
  {
   "cell_type": "code",
   "execution_count": 1,
   "metadata": {},
   "outputs": [],
   "source": [
    "import pandas as pd\n",
    "import numpy as np\n",
    "\n",
    "import chardet\n",
    "\n",
    "np.random.seed(0)"
   ]
  },
  {
   "cell_type": "markdown",
   "metadata": {},
   "source": [
    "## What are encodings? <a id='encodings'></a>\n",
    "[TOC](#TOC)"
   ]
  },
  {
   "cell_type": "markdown",
   "metadata": {},
   "source": [
    ">UTF-8 is **the** standard text encoding. All Python code is in UTF-8 and, ideally, all your data should be as well. It's when things aren't in UTF-8 that you run into trouble."
   ]
  },
  {
   "cell_type": "code",
   "execution_count": 3,
   "metadata": {},
   "outputs": [
    {
     "data": {
      "text/plain": [
       "str"
      ]
     },
     "execution_count": 3,
     "metadata": {},
     "output_type": "execute_result"
    }
   ],
   "source": [
    "# start with a string\n",
    "before = \"This is the euro symbol: €\"\n",
    "\n",
    "# check to see what datatype it is\n",
    "type(before)"
   ]
  },
  {
   "cell_type": "code",
   "execution_count": 4,
   "metadata": {},
   "outputs": [
    {
     "data": {
      "text/plain": [
       "'This is the euro symbol: €'"
      ]
     },
     "execution_count": 4,
     "metadata": {},
     "output_type": "execute_result"
    }
   ],
   "source": [
    "before"
   ]
  },
  {
   "cell_type": "code",
   "execution_count": 5,
   "metadata": {},
   "outputs": [
    {
     "data": {
      "text/plain": [
       "bytes"
      ]
     },
     "execution_count": 5,
     "metadata": {},
     "output_type": "execute_result"
    }
   ],
   "source": [
    "# encode the string to a different encoding\n",
    "# replacing characters that raise errors\n",
    "after = before.encode(\"utf-8\", errors=\"replace\")\n",
    "\n",
    "# Now check the type\n",
    "type(after)"
   ]
  },
  {
   "cell_type": "code",
   "execution_count": 6,
   "metadata": {},
   "outputs": [
    {
     "data": {
      "text/plain": [
       "b'This is the euro symbol: \\xe2\\x82\\xac'"
      ]
     },
     "execution_count": 6,
     "metadata": {},
     "output_type": "execute_result"
    }
   ],
   "source": [
    "after"
   ]
  },
  {
   "cell_type": "markdown",
   "metadata": {},
   "source": [
    "Bytes are printed out as if they were characters encoded in ASCII."
   ]
  },
  {
   "cell_type": "code",
   "execution_count": 7,
   "metadata": {},
   "outputs": [
    {
     "data": {
      "text/plain": [
       "'This is the euro symbol: €'"
      ]
     },
     "execution_count": 7,
     "metadata": {},
     "output_type": "execute_result"
    }
   ],
   "source": [
    "after.decode(\"utf-8\")"
   ]
  },
  {
   "cell_type": "markdown",
   "metadata": {},
   "source": [
    "But this won't work with the incorrect coding, like trying to decode using ascii.\n",
    ">You can think of different encodings as different ways of recording music. You can record the same music on a CD, cassette tape or 8-track. While the music may sound more-or-less the same, you need to use the right equipment to play the music from each recording format. The correct decoder is like a cassette player or a cd player. If you try to play a cassette in a CD player, it just won't work."
   ]
  },
  {
   "cell_type": "code",
   "execution_count": 8,
   "metadata": {},
   "outputs": [
    {
     "data": {
      "text/plain": [
       "b'This is the euro symbol: ?'"
      ]
     },
     "execution_count": 8,
     "metadata": {},
     "output_type": "execute_result"
    }
   ],
   "source": [
    "# encode the og string to a different encoding and\n",
    "# replace the characters that raise errors\n",
    "after = before.encode('ascii', errors='replace')\n",
    "\n",
    "# let's see what it looks like converted back to utf-8\n",
    "after"
   ]
  },
  {
   "cell_type": "markdown",
   "metadata": {},
   "source": [
    "We lost our original euro symbol by decoding the string using ascii. We want to encode non-UTF-8 text to UTF-8 as soon as possible so we don't lose any symbols."
   ]
  },
  {
   "cell_type": "code",
   "execution_count": 9,
   "metadata": {
    "collapsed": true
   },
   "outputs": [],
   "source": [
    "symbols = '$, #, 你好 and नमस्ते'"
   ]
  },
  {
   "cell_type": "code",
   "execution_count": 10,
   "metadata": {},
   "outputs": [
    {
     "data": {
      "text/plain": [
       "'$, #, 你好 and नमस्ते'"
      ]
     },
     "execution_count": 10,
     "metadata": {},
     "output_type": "execute_result"
    }
   ],
   "source": [
    "symbols"
   ]
  },
  {
   "cell_type": "code",
   "execution_count": 11,
   "metadata": {},
   "outputs": [
    {
     "data": {
      "text/plain": [
       "str"
      ]
     },
     "execution_count": 11,
     "metadata": {},
     "output_type": "execute_result"
    }
   ],
   "source": [
    "type(symbols)"
   ]
  },
  {
   "cell_type": "code",
   "execution_count": 12,
   "metadata": {},
   "outputs": [
    {
     "data": {
      "text/plain": [
       "b'$, #, \\xe4\\xbd\\xa0\\xe5\\xa5\\xbd and \\xe0\\xa4\\xa8\\xe0\\xa4\\xae\\xe0\\xa4\\xb8\\xe0\\xa5\\x8d\\xe0\\xa4\\xa4\\xe0\\xa5\\x87'"
      ]
     },
     "execution_count": 12,
     "metadata": {},
     "output_type": "execute_result"
    }
   ],
   "source": [
    "symbols.encode('utf-8')"
   ]
  },
  {
   "cell_type": "code",
   "execution_count": 14,
   "metadata": {},
   "outputs": [
    {
     "data": {
      "text/plain": [
       "b'$, #, ?? and ??????'"
      ]
     },
     "execution_count": 14,
     "metadata": {},
     "output_type": "execute_result"
    }
   ],
   "source": [
    "symbols.encode('ascii', errors='replace')"
   ]
  },
  {
   "cell_type": "markdown",
   "metadata": {},
   "source": [
    "## Reading file with encoding problems <a id='data-import'></a>\n",
    "[TOC](#TOC)\n",
    "\n",
    "Yep there's a problem here."
   ]
  },
  {
   "cell_type": "code",
   "execution_count": 2,
   "metadata": {
    "scrolled": false
   },
   "outputs": [
    {
     "ename": "UnicodeDecodeError",
     "evalue": "'utf-8' codec can't decode byte 0x99 in position 11: invalid start byte",
     "output_type": "error",
     "traceback": [
      "\u001b[0;31m---------------------------------------------------------------------------\u001b[0m",
      "\u001b[0;31mUnicodeDecodeError\u001b[0m                        Traceback (most recent call last)",
      "\u001b[0;32mpandas/_libs/parsers.pyx\u001b[0m in \u001b[0;36mpandas._libs.parsers.TextReader._convert_tokens (pandas/_libs/parsers.c:14858)\u001b[0;34m()\u001b[0m\n",
      "\u001b[0;32mpandas/_libs/parsers.pyx\u001b[0m in \u001b[0;36mpandas._libs.parsers.TextReader._convert_with_dtype (pandas/_libs/parsers.c:17119)\u001b[0;34m()\u001b[0m\n",
      "\u001b[0;32mpandas/_libs/parsers.pyx\u001b[0m in \u001b[0;36mpandas._libs.parsers.TextReader._string_convert (pandas/_libs/parsers.c:17347)\u001b[0;34m()\u001b[0m\n",
      "\u001b[0;32mpandas/_libs/parsers.pyx\u001b[0m in \u001b[0;36mpandas._libs.parsers._string_box_utf8 (pandas/_libs/parsers.c:23041)\u001b[0;34m()\u001b[0m\n",
      "\u001b[0;31mUnicodeDecodeError\u001b[0m: 'utf-8' codec can't decode byte 0x99 in position 11: invalid start byte",
      "\nDuring handling of the above exception, another exception occurred:\n",
      "\u001b[0;31mUnicodeDecodeError\u001b[0m                        Traceback (most recent call last)",
      "\u001b[0;32m<ipython-input-2-400dddfb478e>\u001b[0m in \u001b[0;36m<module>\u001b[0;34m()\u001b[0m\n\u001b[0;32m----> 1\u001b[0;31m \u001b[0mkickstarter_2016\u001b[0m \u001b[0;34m=\u001b[0m \u001b[0mpd\u001b[0m\u001b[0;34m.\u001b[0m\u001b[0mread_csv\u001b[0m\u001b[0;34m(\u001b[0m\u001b[0;34m\"data/ks-projects-201612.csv\"\u001b[0m\u001b[0;34m)\u001b[0m\u001b[0;34m\u001b[0m\u001b[0m\n\u001b[0m",
      "\u001b[0;32m~/.miniconda/lib/python3.6/site-packages/pandas/io/parsers.py\u001b[0m in \u001b[0;36mparser_f\u001b[0;34m(filepath_or_buffer, sep, delimiter, header, names, index_col, usecols, squeeze, prefix, mangle_dupe_cols, dtype, engine, converters, true_values, false_values, skipinitialspace, skiprows, nrows, na_values, keep_default_na, na_filter, verbose, skip_blank_lines, parse_dates, infer_datetime_format, keep_date_col, date_parser, dayfirst, iterator, chunksize, compression, thousands, decimal, lineterminator, quotechar, quoting, escapechar, comment, encoding, dialect, tupleize_cols, error_bad_lines, warn_bad_lines, skipfooter, skip_footer, doublequote, delim_whitespace, as_recarray, compact_ints, use_unsigned, low_memory, buffer_lines, memory_map, float_precision)\u001b[0m\n\u001b[1;32m    653\u001b[0m                     skip_blank_lines=skip_blank_lines)\n\u001b[1;32m    654\u001b[0m \u001b[0;34m\u001b[0m\u001b[0m\n\u001b[0;32m--> 655\u001b[0;31m         \u001b[0;32mreturn\u001b[0m \u001b[0m_read\u001b[0m\u001b[0;34m(\u001b[0m\u001b[0mfilepath_or_buffer\u001b[0m\u001b[0;34m,\u001b[0m \u001b[0mkwds\u001b[0m\u001b[0;34m)\u001b[0m\u001b[0;34m\u001b[0m\u001b[0m\n\u001b[0m\u001b[1;32m    656\u001b[0m \u001b[0;34m\u001b[0m\u001b[0m\n\u001b[1;32m    657\u001b[0m     \u001b[0mparser_f\u001b[0m\u001b[0;34m.\u001b[0m\u001b[0m__name__\u001b[0m \u001b[0;34m=\u001b[0m \u001b[0mname\u001b[0m\u001b[0;34m\u001b[0m\u001b[0m\n",
      "\u001b[0;32m~/.miniconda/lib/python3.6/site-packages/pandas/io/parsers.py\u001b[0m in \u001b[0;36m_read\u001b[0;34m(filepath_or_buffer, kwds)\u001b[0m\n\u001b[1;32m    409\u001b[0m \u001b[0;34m\u001b[0m\u001b[0m\n\u001b[1;32m    410\u001b[0m     \u001b[0;32mtry\u001b[0m\u001b[0;34m:\u001b[0m\u001b[0;34m\u001b[0m\u001b[0m\n\u001b[0;32m--> 411\u001b[0;31m         \u001b[0mdata\u001b[0m \u001b[0;34m=\u001b[0m \u001b[0mparser\u001b[0m\u001b[0;34m.\u001b[0m\u001b[0mread\u001b[0m\u001b[0;34m(\u001b[0m\u001b[0mnrows\u001b[0m\u001b[0;34m)\u001b[0m\u001b[0;34m\u001b[0m\u001b[0m\n\u001b[0m\u001b[1;32m    412\u001b[0m     \u001b[0;32mfinally\u001b[0m\u001b[0;34m:\u001b[0m\u001b[0;34m\u001b[0m\u001b[0m\n\u001b[1;32m    413\u001b[0m         \u001b[0mparser\u001b[0m\u001b[0;34m.\u001b[0m\u001b[0mclose\u001b[0m\u001b[0;34m(\u001b[0m\u001b[0;34m)\u001b[0m\u001b[0;34m\u001b[0m\u001b[0m\n",
      "\u001b[0;32m~/.miniconda/lib/python3.6/site-packages/pandas/io/parsers.py\u001b[0m in \u001b[0;36mread\u001b[0;34m(self, nrows)\u001b[0m\n\u001b[1;32m   1003\u001b[0m                 \u001b[0;32mraise\u001b[0m \u001b[0mValueError\u001b[0m\u001b[0;34m(\u001b[0m\u001b[0;34m'skipfooter not supported for iteration'\u001b[0m\u001b[0;34m)\u001b[0m\u001b[0;34m\u001b[0m\u001b[0m\n\u001b[1;32m   1004\u001b[0m \u001b[0;34m\u001b[0m\u001b[0m\n\u001b[0;32m-> 1005\u001b[0;31m         \u001b[0mret\u001b[0m \u001b[0;34m=\u001b[0m \u001b[0mself\u001b[0m\u001b[0;34m.\u001b[0m\u001b[0m_engine\u001b[0m\u001b[0;34m.\u001b[0m\u001b[0mread\u001b[0m\u001b[0;34m(\u001b[0m\u001b[0mnrows\u001b[0m\u001b[0;34m)\u001b[0m\u001b[0;34m\u001b[0m\u001b[0m\n\u001b[0m\u001b[1;32m   1006\u001b[0m \u001b[0;34m\u001b[0m\u001b[0m\n\u001b[1;32m   1007\u001b[0m         \u001b[0;32mif\u001b[0m \u001b[0mself\u001b[0m\u001b[0;34m.\u001b[0m\u001b[0moptions\u001b[0m\u001b[0;34m.\u001b[0m\u001b[0mget\u001b[0m\u001b[0;34m(\u001b[0m\u001b[0;34m'as_recarray'\u001b[0m\u001b[0;34m)\u001b[0m\u001b[0;34m:\u001b[0m\u001b[0;34m\u001b[0m\u001b[0m\n",
      "\u001b[0;32m~/.miniconda/lib/python3.6/site-packages/pandas/io/parsers.py\u001b[0m in \u001b[0;36mread\u001b[0;34m(self, nrows)\u001b[0m\n\u001b[1;32m   1746\u001b[0m     \u001b[0;32mdef\u001b[0m \u001b[0mread\u001b[0m\u001b[0;34m(\u001b[0m\u001b[0mself\u001b[0m\u001b[0;34m,\u001b[0m \u001b[0mnrows\u001b[0m\u001b[0;34m=\u001b[0m\u001b[0;32mNone\u001b[0m\u001b[0;34m)\u001b[0m\u001b[0;34m:\u001b[0m\u001b[0;34m\u001b[0m\u001b[0m\n\u001b[1;32m   1747\u001b[0m         \u001b[0;32mtry\u001b[0m\u001b[0;34m:\u001b[0m\u001b[0;34m\u001b[0m\u001b[0m\n\u001b[0;32m-> 1748\u001b[0;31m             \u001b[0mdata\u001b[0m \u001b[0;34m=\u001b[0m \u001b[0mself\u001b[0m\u001b[0;34m.\u001b[0m\u001b[0m_reader\u001b[0m\u001b[0;34m.\u001b[0m\u001b[0mread\u001b[0m\u001b[0;34m(\u001b[0m\u001b[0mnrows\u001b[0m\u001b[0;34m)\u001b[0m\u001b[0;34m\u001b[0m\u001b[0m\n\u001b[0m\u001b[1;32m   1749\u001b[0m         \u001b[0;32mexcept\u001b[0m \u001b[0mStopIteration\u001b[0m\u001b[0;34m:\u001b[0m\u001b[0;34m\u001b[0m\u001b[0m\n\u001b[1;32m   1750\u001b[0m             \u001b[0;32mif\u001b[0m \u001b[0mself\u001b[0m\u001b[0;34m.\u001b[0m\u001b[0m_first_chunk\u001b[0m\u001b[0;34m:\u001b[0m\u001b[0;34m\u001b[0m\u001b[0m\n",
      "\u001b[0;32mpandas/_libs/parsers.pyx\u001b[0m in \u001b[0;36mpandas._libs.parsers.TextReader.read (pandas/_libs/parsers.c:10862)\u001b[0;34m()\u001b[0m\n",
      "\u001b[0;32mpandas/_libs/parsers.pyx\u001b[0m in \u001b[0;36mpandas._libs.parsers.TextReader._read_low_memory (pandas/_libs/parsers.c:11138)\u001b[0;34m()\u001b[0m\n",
      "\u001b[0;32mpandas/_libs/parsers.pyx\u001b[0m in \u001b[0;36mpandas._libs.parsers.TextReader._read_rows (pandas/_libs/parsers.c:12175)\u001b[0;34m()\u001b[0m\n",
      "\u001b[0;32mpandas/_libs/parsers.pyx\u001b[0m in \u001b[0;36mpandas._libs.parsers.TextReader._convert_column_data (pandas/_libs/parsers.c:14136)\u001b[0;34m()\u001b[0m\n",
      "\u001b[0;32mpandas/_libs/parsers.pyx\u001b[0m in \u001b[0;36mpandas._libs.parsers.TextReader._convert_tokens (pandas/_libs/parsers.c:14972)\u001b[0;34m()\u001b[0m\n",
      "\u001b[0;32mpandas/_libs/parsers.pyx\u001b[0m in \u001b[0;36mpandas._libs.parsers.TextReader._convert_with_dtype (pandas/_libs/parsers.c:17119)\u001b[0;34m()\u001b[0m\n",
      "\u001b[0;32mpandas/_libs/parsers.pyx\u001b[0m in \u001b[0;36mpandas._libs.parsers.TextReader._string_convert (pandas/_libs/parsers.c:17347)\u001b[0;34m()\u001b[0m\n",
      "\u001b[0;32mpandas/_libs/parsers.pyx\u001b[0m in \u001b[0;36mpandas._libs.parsers._string_box_utf8 (pandas/_libs/parsers.c:23041)\u001b[0;34m()\u001b[0m\n",
      "\u001b[0;31mUnicodeDecodeError\u001b[0m: 'utf-8' codec can't decode byte 0x99 in position 11: invalid start byte"
     ]
    }
   ],
   "source": [
    "kickstarter_2016 = pd.read_csv(\"data/ks-projects-201612.csv\")"
   ]
  },
  {
   "cell_type": "markdown",
   "metadata": {},
   "source": [
    ">We don't know what encoding it actually is though. One way to figure it out is to try and test a bunch of different character encodings and see if any of them work. A better way, though, is to use the chardet module to try and automatically guess what the right encoding is. It's not 100% guaranteed to be right, but it's usually faster than just trying to guess."
   ]
  },
  {
   "cell_type": "markdown",
   "metadata": {},
   "source": [
    "### Using `chardet` to figure out encoding <a id='chardet'></a>\n",
    "[TOC](#TOC)"
   ]
  },
  {
   "cell_type": "code",
   "execution_count": 15,
   "metadata": {
    "collapsed": true
   },
   "outputs": [],
   "source": [
    "# look at the first ten thousand bytes to guess the character encoding\n",
    "with open(\"data/ks-projects-201612.csv\", 'rb') as rawdata:\n",
    "    result = chardet.detect(rawdata.read(10000))"
   ]
  },
  {
   "cell_type": "code",
   "execution_count": 16,
   "metadata": {},
   "outputs": [
    {
     "data": {
      "text/plain": [
       "{'confidence': 0.73, 'encoding': 'Windows-1252', 'language': ''}"
      ]
     },
     "execution_count": 16,
     "metadata": {},
     "output_type": "execute_result"
    }
   ],
   "source": [
    "result"
   ]
  },
  {
   "cell_type": "code",
   "execution_count": 17,
   "metadata": {},
   "outputs": [
    {
     "name": "stderr",
     "output_type": "stream",
     "text": [
      "/Users/jaa/.miniconda/lib/python3.6/site-packages/IPython/core/interactiveshell.py:2698: DtypeWarning: Columns (13,14,15) have mixed types. Specify dtype option on import or set low_memory=False.\n",
      "  interactivity=interactivity, compiler=compiler, result=result)\n"
     ]
    }
   ],
   "source": [
    "kickstarter_2016 = pd.read_csv(\"data/ks-projects-201612.csv\", encoding='Windows-1252')"
   ]
  },
  {
   "cell_type": "code",
   "execution_count": 18,
   "metadata": {},
   "outputs": [
    {
     "data": {
      "text/html": [
       "<div>\n",
       "<style>\n",
       "    .dataframe thead tr:only-child th {\n",
       "        text-align: right;\n",
       "    }\n",
       "\n",
       "    .dataframe thead th {\n",
       "        text-align: left;\n",
       "    }\n",
       "\n",
       "    .dataframe tbody tr th {\n",
       "        vertical-align: top;\n",
       "    }\n",
       "</style>\n",
       "<table border=\"1\" class=\"dataframe\">\n",
       "  <thead>\n",
       "    <tr style=\"text-align: right;\">\n",
       "      <th></th>\n",
       "      <th>ID</th>\n",
       "      <th>name</th>\n",
       "      <th>category</th>\n",
       "      <th>main_category</th>\n",
       "      <th>currency</th>\n",
       "      <th>deadline</th>\n",
       "      <th>goal</th>\n",
       "      <th>launched</th>\n",
       "      <th>pledged</th>\n",
       "      <th>state</th>\n",
       "      <th>backers</th>\n",
       "      <th>country</th>\n",
       "      <th>usd pledged</th>\n",
       "      <th>Unnamed: 13</th>\n",
       "      <th>Unnamed: 14</th>\n",
       "      <th>Unnamed: 15</th>\n",
       "      <th>Unnamed: 16</th>\n",
       "    </tr>\n",
       "  </thead>\n",
       "  <tbody>\n",
       "    <tr>\n",
       "      <th>0</th>\n",
       "      <td>1000002330</td>\n",
       "      <td>The Songs of Adelaide &amp; Abullah</td>\n",
       "      <td>Poetry</td>\n",
       "      <td>Publishing</td>\n",
       "      <td>GBP</td>\n",
       "      <td>2015-10-09 11:36:00</td>\n",
       "      <td>1000</td>\n",
       "      <td>2015-08-11 12:12:28</td>\n",
       "      <td>0</td>\n",
       "      <td>failed</td>\n",
       "      <td>0</td>\n",
       "      <td>GB</td>\n",
       "      <td>0</td>\n",
       "      <td>NaN</td>\n",
       "      <td>NaN</td>\n",
       "      <td>NaN</td>\n",
       "      <td>NaN</td>\n",
       "    </tr>\n",
       "    <tr>\n",
       "      <th>1</th>\n",
       "      <td>1000004038</td>\n",
       "      <td>Where is Hank?</td>\n",
       "      <td>Narrative Film</td>\n",
       "      <td>Film &amp; Video</td>\n",
       "      <td>USD</td>\n",
       "      <td>2013-02-26 00:20:50</td>\n",
       "      <td>45000</td>\n",
       "      <td>2013-01-12 00:20:50</td>\n",
       "      <td>220</td>\n",
       "      <td>failed</td>\n",
       "      <td>3</td>\n",
       "      <td>US</td>\n",
       "      <td>220</td>\n",
       "      <td>NaN</td>\n",
       "      <td>NaN</td>\n",
       "      <td>NaN</td>\n",
       "      <td>NaN</td>\n",
       "    </tr>\n",
       "    <tr>\n",
       "      <th>2</th>\n",
       "      <td>1000007540</td>\n",
       "      <td>ToshiCapital Rekordz Needs Help to Complete Album</td>\n",
       "      <td>Music</td>\n",
       "      <td>Music</td>\n",
       "      <td>USD</td>\n",
       "      <td>2012-04-16 04:24:11</td>\n",
       "      <td>5000</td>\n",
       "      <td>2012-03-17 03:24:11</td>\n",
       "      <td>1</td>\n",
       "      <td>failed</td>\n",
       "      <td>1</td>\n",
       "      <td>US</td>\n",
       "      <td>1</td>\n",
       "      <td>NaN</td>\n",
       "      <td>NaN</td>\n",
       "      <td>NaN</td>\n",
       "      <td>NaN</td>\n",
       "    </tr>\n",
       "    <tr>\n",
       "      <th>3</th>\n",
       "      <td>1000011046</td>\n",
       "      <td>Community Film Project: The Art of Neighborhoo...</td>\n",
       "      <td>Film &amp; Video</td>\n",
       "      <td>Film &amp; Video</td>\n",
       "      <td>USD</td>\n",
       "      <td>2015-08-29 01:00:00</td>\n",
       "      <td>19500</td>\n",
       "      <td>2015-07-04 08:35:03</td>\n",
       "      <td>1283</td>\n",
       "      <td>canceled</td>\n",
       "      <td>14</td>\n",
       "      <td>US</td>\n",
       "      <td>1283</td>\n",
       "      <td>NaN</td>\n",
       "      <td>NaN</td>\n",
       "      <td>NaN</td>\n",
       "      <td>NaN</td>\n",
       "    </tr>\n",
       "    <tr>\n",
       "      <th>4</th>\n",
       "      <td>1000014025</td>\n",
       "      <td>Monarch Espresso Bar</td>\n",
       "      <td>Restaurants</td>\n",
       "      <td>Food</td>\n",
       "      <td>USD</td>\n",
       "      <td>2016-04-01 13:38:27</td>\n",
       "      <td>50000</td>\n",
       "      <td>2016-02-26 13:38:27</td>\n",
       "      <td>52375</td>\n",
       "      <td>successful</td>\n",
       "      <td>224</td>\n",
       "      <td>US</td>\n",
       "      <td>52375</td>\n",
       "      <td>NaN</td>\n",
       "      <td>NaN</td>\n",
       "      <td>NaN</td>\n",
       "      <td>NaN</td>\n",
       "    </tr>\n",
       "  </tbody>\n",
       "</table>\n",
       "</div>"
      ],
      "text/plain": [
       "          ID                                               name   \\\n",
       "0  1000002330                    The Songs of Adelaide & Abullah   \n",
       "1  1000004038                                     Where is Hank?   \n",
       "2  1000007540  ToshiCapital Rekordz Needs Help to Complete Album   \n",
       "3  1000011046  Community Film Project: The Art of Neighborhoo...   \n",
       "4  1000014025                               Monarch Espresso Bar   \n",
       "\n",
       "        category  main_category  currency             deadline   goal   \\\n",
       "0          Poetry     Publishing       GBP  2015-10-09 11:36:00   1000   \n",
       "1  Narrative Film   Film & Video       USD  2013-02-26 00:20:50  45000   \n",
       "2           Music          Music       USD  2012-04-16 04:24:11   5000   \n",
       "3    Film & Video   Film & Video       USD  2015-08-29 01:00:00  19500   \n",
       "4     Restaurants           Food       USD  2016-04-01 13:38:27  50000   \n",
       "\n",
       "             launched  pledged       state  backers  country  usd pledged   \\\n",
       "0  2015-08-11 12:12:28        0      failed        0       GB            0   \n",
       "1  2013-01-12 00:20:50      220      failed        3       US          220   \n",
       "2  2012-03-17 03:24:11        1      failed        1       US            1   \n",
       "3  2015-07-04 08:35:03     1283    canceled       14       US         1283   \n",
       "4  2016-02-26 13:38:27    52375  successful      224       US        52375   \n",
       "\n",
       "  Unnamed: 13 Unnamed: 14 Unnamed: 15  Unnamed: 16  \n",
       "0         NaN         NaN         NaN          NaN  \n",
       "1         NaN         NaN         NaN          NaN  \n",
       "2         NaN         NaN         NaN          NaN  \n",
       "3         NaN         NaN         NaN          NaN  \n",
       "4         NaN         NaN         NaN          NaN  "
      ]
     },
     "execution_count": 18,
     "metadata": {},
     "output_type": "execute_result"
    }
   ],
   "source": [
    "kickstarter_2016.head()"
   ]
  },
  {
   "cell_type": "markdown",
   "metadata": {},
   "source": [
    "### My turn <a id='my-turn'></a>\n",
    "[TOC](#TOC)"
   ]
  },
  {
   "cell_type": "markdown",
   "metadata": {},
   "source": [
    "The `UnicodeDecodeError` gets thrown on the second byte so looking at the first ten thousand bytes of the file with `chardet` as before should work."
   ]
  },
  {
   "cell_type": "code",
   "execution_count": 24,
   "metadata": {
    "collapsed": true
   },
   "outputs": [],
   "source": [
    "with open(\"data/PoliceKillingsUS.csv\", \"rb\") as f:\n",
    "    result = chardet.detect(f.read(100000))"
   ]
  },
  {
   "cell_type": "code",
   "execution_count": 25,
   "metadata": {},
   "outputs": [
    {
     "data": {
      "text/plain": [
       "{'confidence': 0.73, 'encoding': 'Windows-1252', 'language': ''}"
      ]
     },
     "execution_count": 25,
     "metadata": {},
     "output_type": "execute_result"
    }
   ],
   "source": [
    "result"
   ]
  },
  {
   "cell_type": "code",
   "execution_count": 26,
   "metadata": {
    "scrolled": false
   },
   "outputs": [],
   "source": [
    "police_killings = pd.read_csv(\"data/PoliceKillingsUS.csv\", encoding='Windows-1252')"
   ]
  },
  {
   "cell_type": "code",
   "execution_count": 27,
   "metadata": {},
   "outputs": [
    {
     "data": {
      "text/html": [
       "<div>\n",
       "<style>\n",
       "    .dataframe thead tr:only-child th {\n",
       "        text-align: right;\n",
       "    }\n",
       "\n",
       "    .dataframe thead th {\n",
       "        text-align: left;\n",
       "    }\n",
       "\n",
       "    .dataframe tbody tr th {\n",
       "        vertical-align: top;\n",
       "    }\n",
       "</style>\n",
       "<table border=\"1\" class=\"dataframe\">\n",
       "  <thead>\n",
       "    <tr style=\"text-align: right;\">\n",
       "      <th></th>\n",
       "      <th>id</th>\n",
       "      <th>name</th>\n",
       "      <th>date</th>\n",
       "      <th>manner_of_death</th>\n",
       "      <th>armed</th>\n",
       "      <th>age</th>\n",
       "      <th>gender</th>\n",
       "      <th>race</th>\n",
       "      <th>city</th>\n",
       "      <th>state</th>\n",
       "      <th>signs_of_mental_illness</th>\n",
       "      <th>threat_level</th>\n",
       "      <th>flee</th>\n",
       "      <th>body_camera</th>\n",
       "    </tr>\n",
       "  </thead>\n",
       "  <tbody>\n",
       "    <tr>\n",
       "      <th>0</th>\n",
       "      <td>3</td>\n",
       "      <td>Tim Elliot</td>\n",
       "      <td>02/01/15</td>\n",
       "      <td>shot</td>\n",
       "      <td>gun</td>\n",
       "      <td>53.0</td>\n",
       "      <td>M</td>\n",
       "      <td>A</td>\n",
       "      <td>Shelton</td>\n",
       "      <td>WA</td>\n",
       "      <td>True</td>\n",
       "      <td>attack</td>\n",
       "      <td>Not fleeing</td>\n",
       "      <td>False</td>\n",
       "    </tr>\n",
       "    <tr>\n",
       "      <th>1</th>\n",
       "      <td>4</td>\n",
       "      <td>Lewis Lee Lembke</td>\n",
       "      <td>02/01/15</td>\n",
       "      <td>shot</td>\n",
       "      <td>gun</td>\n",
       "      <td>47.0</td>\n",
       "      <td>M</td>\n",
       "      <td>W</td>\n",
       "      <td>Aloha</td>\n",
       "      <td>OR</td>\n",
       "      <td>False</td>\n",
       "      <td>attack</td>\n",
       "      <td>Not fleeing</td>\n",
       "      <td>False</td>\n",
       "    </tr>\n",
       "    <tr>\n",
       "      <th>2</th>\n",
       "      <td>5</td>\n",
       "      <td>John Paul Quintero</td>\n",
       "      <td>03/01/15</td>\n",
       "      <td>shot and Tasered</td>\n",
       "      <td>unarmed</td>\n",
       "      <td>23.0</td>\n",
       "      <td>M</td>\n",
       "      <td>H</td>\n",
       "      <td>Wichita</td>\n",
       "      <td>KS</td>\n",
       "      <td>False</td>\n",
       "      <td>other</td>\n",
       "      <td>Not fleeing</td>\n",
       "      <td>False</td>\n",
       "    </tr>\n",
       "    <tr>\n",
       "      <th>3</th>\n",
       "      <td>8</td>\n",
       "      <td>Matthew Hoffman</td>\n",
       "      <td>04/01/15</td>\n",
       "      <td>shot</td>\n",
       "      <td>toy weapon</td>\n",
       "      <td>32.0</td>\n",
       "      <td>M</td>\n",
       "      <td>W</td>\n",
       "      <td>San Francisco</td>\n",
       "      <td>CA</td>\n",
       "      <td>True</td>\n",
       "      <td>attack</td>\n",
       "      <td>Not fleeing</td>\n",
       "      <td>False</td>\n",
       "    </tr>\n",
       "    <tr>\n",
       "      <th>4</th>\n",
       "      <td>9</td>\n",
       "      <td>Michael Rodriguez</td>\n",
       "      <td>04/01/15</td>\n",
       "      <td>shot</td>\n",
       "      <td>nail gun</td>\n",
       "      <td>39.0</td>\n",
       "      <td>M</td>\n",
       "      <td>H</td>\n",
       "      <td>Evans</td>\n",
       "      <td>CO</td>\n",
       "      <td>False</td>\n",
       "      <td>attack</td>\n",
       "      <td>Not fleeing</td>\n",
       "      <td>False</td>\n",
       "    </tr>\n",
       "  </tbody>\n",
       "</table>\n",
       "</div>"
      ],
      "text/plain": [
       "   id                name      date   manner_of_death       armed   age  \\\n",
       "0   3          Tim Elliot  02/01/15              shot         gun  53.0   \n",
       "1   4    Lewis Lee Lembke  02/01/15              shot         gun  47.0   \n",
       "2   5  John Paul Quintero  03/01/15  shot and Tasered     unarmed  23.0   \n",
       "3   8     Matthew Hoffman  04/01/15              shot  toy weapon  32.0   \n",
       "4   9   Michael Rodriguez  04/01/15              shot    nail gun  39.0   \n",
       "\n",
       "  gender race           city state  signs_of_mental_illness threat_level  \\\n",
       "0      M    A        Shelton    WA                     True       attack   \n",
       "1      M    W          Aloha    OR                    False       attack   \n",
       "2      M    H        Wichita    KS                    False        other   \n",
       "3      M    W  San Francisco    CA                     True       attack   \n",
       "4      M    H          Evans    CO                    False       attack   \n",
       "\n",
       "          flee  body_camera  \n",
       "0  Not fleeing        False  \n",
       "1  Not fleeing        False  \n",
       "2  Not fleeing        False  \n",
       "3  Not fleeing        False  \n",
       "4  Not fleeing        False  "
      ]
     },
     "execution_count": 27,
     "metadata": {},
     "output_type": "execute_result"
    }
   ],
   "source": [
    "police_killings.head()"
   ]
  },
  {
   "cell_type": "code",
   "execution_count": 28,
   "metadata": {},
   "outputs": [
    {
     "data": {
      "text/plain": [
       "(2535, 14)"
      ]
     },
     "execution_count": 28,
     "metadata": {},
     "output_type": "execute_result"
    }
   ],
   "source": [
    "police_killings.shape"
   ]
  },
  {
   "cell_type": "code",
   "execution_count": 31,
   "metadata": {},
   "outputs": [
    {
     "data": {
      "text/plain": [
       "271"
      ]
     },
     "execution_count": 31,
     "metadata": {},
     "output_type": "execute_result"
    }
   ],
   "source": [
    "sum(police_killings.body_camera == True)"
   ]
  },
  {
   "cell_type": "code",
   "execution_count": 33,
   "metadata": {},
   "outputs": [
    {
     "data": {
      "text/plain": [
       "1398"
      ]
     },
     "execution_count": 33,
     "metadata": {},
     "output_type": "execute_result"
    }
   ],
   "source": [
    "sum(police_killings.armed == \"gun\")"
   ]
  },
  {
   "cell_type": "code",
   "execution_count": 34,
   "metadata": {},
   "outputs": [
    {
     "data": {
      "text/plain": [
       "36.605370219690805"
      ]
     },
     "execution_count": 34,
     "metadata": {},
     "output_type": "execute_result"
    }
   ],
   "source": [
    "police_killings.age.mean()"
   ]
  },
  {
   "cell_type": "code",
   "execution_count": 37,
   "metadata": {},
   "outputs": [
    {
     "data": {
      "text/plain": [
       "13.030773649714495"
      ]
     },
     "execution_count": 37,
     "metadata": {},
     "output_type": "execute_result"
    }
   ],
   "source": [
    "police_killings.age.std()"
   ]
  },
  {
   "cell_type": "markdown",
   "metadata": {},
   "source": [
    "## Saving files with UTF-8 encoding <a id='saving-files'></a>\n",
    "[TOC](#TOC)\n",
    "\n",
    "Files get saved in UTF-8 encoding by default in Python."
   ]
  },
  {
   "cell_type": "code",
   "execution_count": 38,
   "metadata": {
    "collapsed": true
   },
   "outputs": [],
   "source": [
    "kickstarter_2016.to_csv(\"ks-test.csv\")"
   ]
  },
  {
   "cell_type": "code",
   "execution_count": 39,
   "metadata": {
    "collapsed": true
   },
   "outputs": [],
   "source": [
    "police_killings.to_csv(\"police-test.csv\")"
   ]
  },
  {
   "cell_type": "markdown",
   "metadata": {},
   "source": [
    "## More Practice <a id='more-practice'></a>\n",
    "[TOC](#TOC)"
   ]
  },
  {
   "cell_type": "code",
   "execution_count": 40,
   "metadata": {
    "collapsed": true
   },
   "outputs": [],
   "source": [
    "file_guide = pd.read_csv(\"data/char-encoding/file_guide.csv\")"
   ]
  },
  {
   "cell_type": "code",
   "execution_count": 43,
   "metadata": {
    "collapsed": true
   },
   "outputs": [],
   "source": [
    "_file = \"data/char-encoding/harpers_ASCII.txt\"\n",
    "with open(_file, 'rb') as f:\n",
    "    result = chardet.detect(f.read(10000))"
   ]
  },
  {
   "cell_type": "code",
   "execution_count": 44,
   "metadata": {},
   "outputs": [
    {
     "data": {
      "text/plain": [
       "{'confidence': 1.0, 'encoding': 'ascii', 'language': ''}"
      ]
     },
     "execution_count": 44,
     "metadata": {},
     "output_type": "execute_result"
    }
   ],
   "source": [
    "result"
   ]
  },
  {
   "cell_type": "code",
   "execution_count": 46,
   "metadata": {
    "collapsed": true
   },
   "outputs": [],
   "source": [
    "with open(_file, encoding='ascii') as f:\n",
    "    lines = f.readlines(5000)"
   ]
  },
  {
   "cell_type": "code",
   "execution_count": 47,
   "metadata": {},
   "outputs": [
    {
     "data": {
      "text/plain": [
       "'\"In course you mean to be,\" interrupted Mr. Simmons, gravely; \"but I\\n'"
      ]
     },
     "execution_count": 47,
     "metadata": {},
     "output_type": "execute_result"
    }
   ],
   "source": [
    "last_line = lines[len(lines) - 1]\n",
    "last_line"
   ]
  },
  {
   "cell_type": "code",
   "execution_count": 48,
   "metadata": {},
   "outputs": [
    {
     "data": {
      "text/plain": [
       "b'\"In course you mean to be,\" interrupted Mr. Simmons, gravely; \"but I\\n'"
      ]
     },
     "execution_count": 48,
     "metadata": {},
     "output_type": "execute_result"
    }
   ],
   "source": [
    "last_line.encode(\"ascii\")"
   ]
  },
  {
   "cell_type": "markdown",
   "metadata": {},
   "source": [
    "Another file"
   ]
  },
  {
   "cell_type": "code",
   "execution_count": 52,
   "metadata": {},
   "outputs": [],
   "source": [
    "_file = \"data/char-encoding/olaf_Windows-1251.txt\"\n",
    "with open(_file, 'rb') as f:\n",
    "    result = chardet.detect(f.read(10000))"
   ]
  },
  {
   "cell_type": "code",
   "execution_count": 53,
   "metadata": {},
   "outputs": [
    {
     "data": {
      "text/plain": [
       "{'confidence': 0.99, 'encoding': 'windows-1251', 'language': 'Bulgarian'}"
      ]
     },
     "execution_count": 53,
     "metadata": {},
     "output_type": "execute_result"
    }
   ],
   "source": [
    "result"
   ]
  },
  {
   "cell_type": "code",
   "execution_count": 54,
   "metadata": {
    "collapsed": true
   },
   "outputs": [],
   "source": [
    "with open(_file, encoding='windows-1251') as f:\n",
    "    lines = f.readlines(5000)"
   ]
  },
  {
   "cell_type": "code",
   "execution_count": 58,
   "metadata": {},
   "outputs": [
    {
     "data": {
      "text/plain": [
       "' сметнат за самилюбец. Не е чудно и да е такъв, понеже е творец, и както всичките негови добри колеги гали в душата си звярът на отвращението към светите чувства на филистрите, към скрижалните заповеди на чичо Сноба. Бащино наследство е у него обичта му към всичко достойно за обич; а при друго едно наследство - светата злоба - нашият поет се е постарал да попритури и от себе си нещичко. Това, що изповядват обикновено хероите на словото, е и негова изповед: гневът е мерило на моята любов! И горд е той не на шега, но с шеги мисли, че добре прикрива гордостта си пред нищите духом - некадърниците да проумеят в това трагизма на тая гордост. А неговий смях и присмех над себе си е такъв добър коментар, какъвто не са дори самотността и тъмеящата понякога в погледа му меланхолия!\\n'"
      ]
     },
     "execution_count": 58,
     "metadata": {},
     "output_type": "execute_result"
    }
   ],
   "source": [
    "lines[-1]"
   ]
  },
  {
   "cell_type": "code",
   "execution_count": 57,
   "metadata": {},
   "outputs": [
    {
     "data": {
      "text/plain": [
       "b' \\xf1\\xec\\xe5\\xf2\\xed\\xe0\\xf2 \\xe7\\xe0 \\xf1\\xe0\\xec\\xe8\\xeb\\xfe\\xe1\\xe5\\xf6. \\xcd\\xe5 \\xe5 \\xf7\\xf3\\xe4\\xed\\xee \\xe8 \\xe4\\xe0 \\xe5 \\xf2\\xe0\\xea\\xfa\\xe2, \\xef\\xee\\xed\\xe5\\xe6\\xe5 \\xe5 \\xf2\\xe2\\xee\\xf0\\xe5\\xf6, \\xe8 \\xea\\xe0\\xea\\xf2\\xee \\xe2\\xf1\\xe8\\xf7\\xea\\xe8\\xf2\\xe5 \\xed\\xe5\\xe3\\xee\\xe2\\xe8 \\xe4\\xee\\xe1\\xf0\\xe8 \\xea\\xee\\xeb\\xe5\\xe3\\xe8 \\xe3\\xe0\\xeb\\xe8 \\xe2 \\xe4\\xf3\\xf8\\xe0\\xf2\\xe0 \\xf1\\xe8 \\xe7\\xe2\\xff\\xf0\\xfa\\xf2 \\xed\\xe0 \\xee\\xf2\\xe2\\xf0\\xe0\\xf9\\xe5\\xed\\xe8\\xe5\\xf2\\xee \\xea\\xfa\\xec \\xf1\\xe2\\xe5\\xf2\\xe8\\xf2\\xe5 \\xf7\\xf3\\xe2\\xf1\\xf2\\xe2\\xe0 \\xed\\xe0 \\xf4\\xe8\\xeb\\xe8\\xf1\\xf2\\xf0\\xe8\\xf2\\xe5, \\xea\\xfa\\xec \\xf1\\xea\\xf0\\xe8\\xe6\\xe0\\xeb\\xed\\xe8\\xf2\\xe5 \\xe7\\xe0\\xef\\xee\\xe2\\xe5\\xe4\\xe8 \\xed\\xe0 \\xf7\\xe8\\xf7\\xee \\xd1\\xed\\xee\\xe1\\xe0. \\xc1\\xe0\\xf9\\xe8\\xed\\xee \\xed\\xe0\\xf1\\xeb\\xe5\\xe4\\xf1\\xf2\\xe2\\xee \\xe5 \\xf3 \\xed\\xe5\\xe3\\xee \\xee\\xe1\\xe8\\xf7\\xf2\\xe0 \\xec\\xf3 \\xea\\xfa\\xec \\xe2\\xf1\\xe8\\xf7\\xea\\xee \\xe4\\xee\\xf1\\xf2\\xee\\xe9\\xed\\xee \\xe7\\xe0 \\xee\\xe1\\xe8\\xf7; \\xe0 \\xef\\xf0\\xe8 \\xe4\\xf0\\xf3\\xe3\\xee \\xe5\\xe4\\xed\\xee \\xed\\xe0\\xf1\\xeb\\xe5\\xe4\\xf1\\xf2\\xe2\\xee - \\xf1\\xe2\\xe5\\xf2\\xe0\\xf2\\xe0 \\xe7\\xeb\\xee\\xe1\\xe0 - \\xed\\xe0\\xf8\\xe8\\xff\\xf2 \\xef\\xee\\xe5\\xf2 \\xf1\\xe5 \\xe5 \\xef\\xee\\xf1\\xf2\\xe0\\xf0\\xe0\\xeb \\xe4\\xe0 \\xef\\xee\\xef\\xf0\\xe8\\xf2\\xf3\\xf0\\xe8 \\xe8 \\xee\\xf2 \\xf1\\xe5\\xe1\\xe5 \\xf1\\xe8 \\xed\\xe5\\xf9\\xe8\\xf7\\xea\\xee. \\xd2\\xee\\xe2\\xe0, \\xf9\\xee \\xe8\\xe7\\xef\\xee\\xe2\\xff\\xe4\\xe2\\xe0\\xf2 \\xee\\xe1\\xe8\\xea\\xed\\xee\\xe2\\xe5\\xed\\xee \\xf5\\xe5\\xf0\\xee\\xe8\\xf2\\xe5 \\xed\\xe0 \\xf1\\xeb\\xee\\xe2\\xee\\xf2\\xee, \\xe5 \\xe8 \\xed\\xe5\\xe3\\xee\\xe2\\xe0 \\xe8\\xe7\\xef\\xee\\xe2\\xe5\\xe4: \\xe3\\xed\\xe5\\xe2\\xfa\\xf2 \\xe5 \\xec\\xe5\\xf0\\xe8\\xeb\\xee \\xed\\xe0 \\xec\\xee\\xff\\xf2\\xe0 \\xeb\\xfe\\xe1\\xee\\xe2! \\xc8 \\xe3\\xee\\xf0\\xe4 \\xe5 \\xf2\\xee\\xe9 \\xed\\xe5 \\xed\\xe0 \\xf8\\xe5\\xe3\\xe0, \\xed\\xee \\xf1 \\xf8\\xe5\\xe3\\xe8 \\xec\\xe8\\xf1\\xeb\\xe8, \\xf7\\xe5 \\xe4\\xee\\xe1\\xf0\\xe5 \\xef\\xf0\\xe8\\xea\\xf0\\xe8\\xe2\\xe0 \\xe3\\xee\\xf0\\xe4\\xee\\xf1\\xf2\\xf2\\xe0 \\xf1\\xe8 \\xef\\xf0\\xe5\\xe4 \\xed\\xe8\\xf9\\xe8\\xf2\\xe5 \\xe4\\xf3\\xf5\\xee\\xec - \\xed\\xe5\\xea\\xe0\\xe4\\xfa\\xf0\\xed\\xe8\\xf6\\xe8\\xf2\\xe5 \\xe4\\xe0 \\xef\\xf0\\xee\\xf3\\xec\\xe5\\xff\\xf2 \\xe2 \\xf2\\xee\\xe2\\xe0 \\xf2\\xf0\\xe0\\xe3\\xe8\\xe7\\xec\\xe0 \\xed\\xe0 \\xf2\\xe0\\xff \\xe3\\xee\\xf0\\xe4\\xee\\xf1\\xf2. \\xc0 \\xed\\xe5\\xe3\\xee\\xe2\\xe8\\xe9 \\xf1\\xec\\xff\\xf5 \\xe8 \\xef\\xf0\\xe8\\xf1\\xec\\xe5\\xf5 \\xed\\xe0\\xe4 \\xf1\\xe5\\xe1\\xe5 \\xf1\\xe8 \\xe5 \\xf2\\xe0\\xea\\xfa\\xe2 \\xe4\\xee\\xe1\\xfa\\xf0 \\xea\\xee\\xec\\xe5\\xed\\xf2\\xe0\\xf0, \\xea\\xe0\\xea\\xfa\\xe2\\xf2\\xee \\xed\\xe5 \\xf1\\xe0 \\xe4\\xee\\xf0\\xe8 \\xf1\\xe0\\xec\\xee\\xf2\\xed\\xee\\xf1\\xf2\\xf2\\xe0 \\xe8 \\xf2\\xfa\\xec\\xe5\\xff\\xf9\\xe0\\xf2\\xe0 \\xef\\xee\\xed\\xff\\xea\\xee\\xe3\\xe0 \\xe2 \\xef\\xee\\xe3\\xeb\\xe5\\xe4\\xe0 \\xec\\xf3 \\xec\\xe5\\xeb\\xe0\\xed\\xf5\\xee\\xeb\\xe8\\xff!\\n'"
      ]
     },
     "execution_count": 57,
     "metadata": {},
     "output_type": "execute_result"
    }
   ],
   "source": [
    "lines[-1].encode('windows-1251')"
   ]
  },
  {
   "cell_type": "markdown",
   "metadata": {},
   "source": [
    "Another file"
   ]
  },
  {
   "cell_type": "code",
   "execution_count": 59,
   "metadata": {
    "collapsed": true
   },
   "outputs": [],
   "source": [
    "_file = \"data/char-encoding/portugal_ISO-8859-1.txt\"\n",
    "with open(_file, 'rb') as f:\n",
    "    result = chardet.detect(f.read(10000))"
   ]
  },
  {
   "cell_type": "code",
   "execution_count": 60,
   "metadata": {},
   "outputs": [
    {
     "data": {
      "text/plain": [
       "{'confidence': 0.73, 'encoding': 'ISO-8859-1', 'language': ''}"
      ]
     },
     "execution_count": 60,
     "metadata": {},
     "output_type": "execute_result"
    }
   ],
   "source": [
    "result"
   ]
  },
  {
   "cell_type": "code",
   "execution_count": 61,
   "metadata": {
    "collapsed": true
   },
   "outputs": [],
   "source": [
    "with open(_file, encoding='ISO-8859-1') as f:\n",
    "    lines = f.readlines(5000)"
   ]
  },
  {
   "cell_type": "code",
   "execution_count": 68,
   "metadata": {},
   "outputs": [
    {
     "data": {
      "text/plain": [
       "'            _Os escritos que saê da mão fóra\\n'"
      ]
     },
     "execution_count": 68,
     "metadata": {},
     "output_type": "execute_result"
    }
   ],
   "source": [
    "lines[-1]"
   ]
  },
  {
   "cell_type": "code",
   "execution_count": 69,
   "metadata": {},
   "outputs": [
    {
     "data": {
      "text/plain": [
       "b'            _Os escritos que sa\\xea da m\\xe3o f\\xf3ra\\n'"
      ]
     },
     "execution_count": 69,
     "metadata": {},
     "output_type": "execute_result"
    }
   ],
   "source": [
    "lines[-1].encode('ISO-8859-1')"
   ]
  },
  {
   "cell_type": "markdown",
   "metadata": {},
   "source": [
    "Another file"
   ]
  },
  {
   "cell_type": "code",
   "execution_count": 70,
   "metadata": {
    "collapsed": true
   },
   "outputs": [],
   "source": [
    "_file = \"data/char-encoding/shisei_UTF-8.txt\"\n",
    "with open(_file, 'rb') as f:\n",
    "    result = chardet.detect(f.read(10000))"
   ]
  },
  {
   "cell_type": "code",
   "execution_count": 71,
   "metadata": {},
   "outputs": [
    {
     "data": {
      "text/plain": [
       "{'confidence': 1.0, 'encoding': 'UTF-8-SIG', 'language': ''}"
      ]
     },
     "execution_count": 71,
     "metadata": {},
     "output_type": "execute_result"
    }
   ],
   "source": [
    "result"
   ]
  },
  {
   "cell_type": "code",
   "execution_count": 72,
   "metadata": {
    "collapsed": true
   },
   "outputs": [],
   "source": [
    "with open(_file, encoding='UTF-8-SIG') as f:\n",
    "    lines = f.readlines(5000)"
   ]
  },
  {
   "cell_type": "code",
   "execution_count": 73,
   "metadata": {},
   "outputs": [
    {
     "data": {
      "text/plain": [
       "'\\u3000丁度《ちやうど》四｜年目《ねんめ》の夏《なつ》のとあるゆふべ、深川《ふかがは》の料理屋《れうりや》平淸《ひらせい》の前《まへ》を通《とほ》りかかつた時《とき》、彼《かれ》はふと門口《かどぐち》に待《ま》つて居《ゐ》る駕籠《かご》の簾《すだれ》のかげから眞白《まつしろ》な女《をんな》の素足《すあし》のこぼれて居《ゐ》るのに氣がついた。銳《するど》い彼《かれ》の眼《め》には、人間《にんげん》の足《あし》はその顏《かほ》と同《おな》じやうに複雜《ふくざつ》な表情《へうじやう》を持《も》つて映《うつ》つた。その女《をんな》の足《あし》は、彼《かれ》に取《と》つては貴《たつと》き肉《にく》の寶玉《はうぎよく》であつた。拇指《おやゆび》から起《おこ》つて小指《こゆび》に終《をは》る繊細《せんさい》な五｜本《ほん》の指《ゆび》の整《とゝの》ひ方《かた》、繪《ゑ》の島《しま》の海邊《うみべ》で獲《と》れるうすべに色《いろ》の貝《かひ》にも劣《おと》らぬ爪《つめ》の色合《いろあひ》、珠《たま》のやうな踵《きびす》のまる味《み》、淸冽《せいれつ》な岩間《いはま》の水《みづ》が絕《た》えず足下《あしもと》を洗《あら》ふかと疑《うたが》はれる皮膚《ひふ》の潤澤《じゆんたく》。この足《あし》こそは、やがて男《をとこ》の生血《いきち》に肥《こ》え太《ふと》り、男《をとこ》のむくろを蹈《ふ》みつける足《あし》であつた。この足《あし》を持《も》つ女《をんな》こそは、彼《かれ》が永年《ながねん》たづねあぐむだ女《をんな》の中《なか》の女《をんな》であらうと思《おも》はれた。淸吉《せいきち》は躍《をど》りたつ胸《むね》をおさへて、其《そ》の人《ひと》の顏《かほ》が見《み》たさに駕籠《かご》の後《あと》を追《お》ひかけたが、二三｜町《ちやう》行《ゆ》くと、もう其《そ》の影《かげ》は見《み》えなかつた。\\n'"
      ]
     },
     "execution_count": 73,
     "metadata": {},
     "output_type": "execute_result"
    }
   ],
   "source": [
    "lines[-1]"
   ]
  },
  {
   "cell_type": "code",
   "execution_count": 74,
   "metadata": {},
   "outputs": [
    {
     "data": {
      "text/plain": [
       "b'\\xef\\xbb\\xbf\\xe3\\x80\\x80\\xe4\\xb8\\x81\\xe5\\xba\\xa6\\xe3\\x80\\x8a\\xe3\\x81\\xa1\\xe3\\x82\\x84\\xe3\\x81\\x86\\xe3\\x81\\xa9\\xe3\\x80\\x8b\\xe5\\x9b\\x9b\\xef\\xbd\\x9c\\xe5\\xb9\\xb4\\xe7\\x9b\\xae\\xe3\\x80\\x8a\\xe3\\x81\\xad\\xe3\\x82\\x93\\xe3\\x82\\x81\\xe3\\x80\\x8b\\xe3\\x81\\xae\\xe5\\xa4\\x8f\\xe3\\x80\\x8a\\xe3\\x81\\xaa\\xe3\\x81\\xa4\\xe3\\x80\\x8b\\xe3\\x81\\xae\\xe3\\x81\\xa8\\xe3\\x81\\x82\\xe3\\x82\\x8b\\xe3\\x82\\x86\\xe3\\x81\\xb5\\xe3\\x81\\xb9\\xe3\\x80\\x81\\xe6\\xb7\\xb1\\xe5\\xb7\\x9d\\xe3\\x80\\x8a\\xe3\\x81\\xb5\\xe3\\x81\\x8b\\xe3\\x81\\x8c\\xe3\\x81\\xaf\\xe3\\x80\\x8b\\xe3\\x81\\xae\\xe6\\x96\\x99\\xe7\\x90\\x86\\xe5\\xb1\\x8b\\xe3\\x80\\x8a\\xe3\\x82\\x8c\\xe3\\x81\\x86\\xe3\\x82\\x8a\\xe3\\x82\\x84\\xe3\\x80\\x8b\\xe5\\xb9\\xb3\\xe6\\xb7\\xb8\\xe3\\x80\\x8a\\xe3\\x81\\xb2\\xe3\\x82\\x89\\xe3\\x81\\x9b\\xe3\\x81\\x84\\xe3\\x80\\x8b\\xe3\\x81\\xae\\xe5\\x89\\x8d\\xe3\\x80\\x8a\\xe3\\x81\\xbe\\xe3\\x81\\xb8\\xe3\\x80\\x8b\\xe3\\x82\\x92\\xe9\\x80\\x9a\\xe3\\x80\\x8a\\xe3\\x81\\xa8\\xe3\\x81\\xbb\\xe3\\x80\\x8b\\xe3\\x82\\x8a\\xe3\\x81\\x8b\\xe3\\x81\\x8b\\xe3\\x81\\xa4\\xe3\\x81\\x9f\\xe6\\x99\\x82\\xe3\\x80\\x8a\\xe3\\x81\\xa8\\xe3\\x81\\x8d\\xe3\\x80\\x8b\\xe3\\x80\\x81\\xe5\\xbd\\xbc\\xe3\\x80\\x8a\\xe3\\x81\\x8b\\xe3\\x82\\x8c\\xe3\\x80\\x8b\\xe3\\x81\\xaf\\xe3\\x81\\xb5\\xe3\\x81\\xa8\\xe9\\x96\\x80\\xe5\\x8f\\xa3\\xe3\\x80\\x8a\\xe3\\x81\\x8b\\xe3\\x81\\xa9\\xe3\\x81\\x90\\xe3\\x81\\xa1\\xe3\\x80\\x8b\\xe3\\x81\\xab\\xe5\\xbe\\x85\\xe3\\x80\\x8a\\xe3\\x81\\xbe\\xe3\\x80\\x8b\\xe3\\x81\\xa4\\xe3\\x81\\xa6\\xe5\\xb1\\x85\\xe3\\x80\\x8a\\xe3\\x82\\x90\\xe3\\x80\\x8b\\xe3\\x82\\x8b\\xe9\\xa7\\x95\\xe7\\xb1\\xa0\\xe3\\x80\\x8a\\xe3\\x81\\x8b\\xe3\\x81\\x94\\xe3\\x80\\x8b\\xe3\\x81\\xae\\xe7\\xb0\\xbe\\xe3\\x80\\x8a\\xe3\\x81\\x99\\xe3\\x81\\xa0\\xe3\\x82\\x8c\\xe3\\x80\\x8b\\xe3\\x81\\xae\\xe3\\x81\\x8b\\xe3\\x81\\x92\\xe3\\x81\\x8b\\xe3\\x82\\x89\\xe7\\x9c\\x9e\\xe7\\x99\\xbd\\xe3\\x80\\x8a\\xe3\\x81\\xbe\\xe3\\x81\\xa4\\xe3\\x81\\x97\\xe3\\x82\\x8d\\xe3\\x80\\x8b\\xe3\\x81\\xaa\\xe5\\xa5\\xb3\\xe3\\x80\\x8a\\xe3\\x82\\x92\\xe3\\x82\\x93\\xe3\\x81\\xaa\\xe3\\x80\\x8b\\xe3\\x81\\xae\\xe7\\xb4\\xa0\\xe8\\xb6\\xb3\\xe3\\x80\\x8a\\xe3\\x81\\x99\\xe3\\x81\\x82\\xe3\\x81\\x97\\xe3\\x80\\x8b\\xe3\\x81\\xae\\xe3\\x81\\x93\\xe3\\x81\\xbc\\xe3\\x82\\x8c\\xe3\\x81\\xa6\\xe5\\xb1\\x85\\xe3\\x80\\x8a\\xe3\\x82\\x90\\xe3\\x80\\x8b\\xe3\\x82\\x8b\\xe3\\x81\\xae\\xe3\\x81\\xab\\xe6\\xb0\\xa3\\xe3\\x81\\x8c\\xe3\\x81\\xa4\\xe3\\x81\\x84\\xe3\\x81\\x9f\\xe3\\x80\\x82\\xe9\\x8a\\xb3\\xe3\\x80\\x8a\\xe3\\x81\\x99\\xe3\\x82\\x8b\\xe3\\x81\\xa9\\xe3\\x80\\x8b\\xe3\\x81\\x84\\xe5\\xbd\\xbc\\xe3\\x80\\x8a\\xe3\\x81\\x8b\\xe3\\x82\\x8c\\xe3\\x80\\x8b\\xe3\\x81\\xae\\xe7\\x9c\\xbc\\xe3\\x80\\x8a\\xe3\\x82\\x81\\xe3\\x80\\x8b\\xe3\\x81\\xab\\xe3\\x81\\xaf\\xe3\\x80\\x81\\xe4\\xba\\xba\\xe9\\x96\\x93\\xe3\\x80\\x8a\\xe3\\x81\\xab\\xe3\\x82\\x93\\xe3\\x81\\x92\\xe3\\x82\\x93\\xe3\\x80\\x8b\\xe3\\x81\\xae\\xe8\\xb6\\xb3\\xe3\\x80\\x8a\\xe3\\x81\\x82\\xe3\\x81\\x97\\xe3\\x80\\x8b\\xe3\\x81\\xaf\\xe3\\x81\\x9d\\xe3\\x81\\xae\\xe9\\xa1\\x8f\\xe3\\x80\\x8a\\xe3\\x81\\x8b\\xe3\\x81\\xbb\\xe3\\x80\\x8b\\xe3\\x81\\xa8\\xe5\\x90\\x8c\\xe3\\x80\\x8a\\xe3\\x81\\x8a\\xe3\\x81\\xaa\\xe3\\x80\\x8b\\xe3\\x81\\x98\\xe3\\x82\\x84\\xe3\\x81\\x86\\xe3\\x81\\xab\\xe8\\xa4\\x87\\xe9\\x9b\\x9c\\xe3\\x80\\x8a\\xe3\\x81\\xb5\\xe3\\x81\\x8f\\xe3\\x81\\x96\\xe3\\x81\\xa4\\xe3\\x80\\x8b\\xe3\\x81\\xaa\\xe8\\xa1\\xa8\\xe6\\x83\\x85\\xe3\\x80\\x8a\\xe3\\x81\\xb8\\xe3\\x81\\x86\\xe3\\x81\\x98\\xe3\\x82\\x84\\xe3\\x81\\x86\\xe3\\x80\\x8b\\xe3\\x82\\x92\\xe6\\x8c\\x81\\xe3\\x80\\x8a\\xe3\\x82\\x82\\xe3\\x80\\x8b\\xe3\\x81\\xa4\\xe3\\x81\\xa6\\xe6\\x98\\xa0\\xe3\\x80\\x8a\\xe3\\x81\\x86\\xe3\\x81\\xa4\\xe3\\x80\\x8b\\xe3\\x81\\xa4\\xe3\\x81\\x9f\\xe3\\x80\\x82\\xe3\\x81\\x9d\\xe3\\x81\\xae\\xe5\\xa5\\xb3\\xe3\\x80\\x8a\\xe3\\x82\\x92\\xe3\\x82\\x93\\xe3\\x81\\xaa\\xe3\\x80\\x8b\\xe3\\x81\\xae\\xe8\\xb6\\xb3\\xe3\\x80\\x8a\\xe3\\x81\\x82\\xe3\\x81\\x97\\xe3\\x80\\x8b\\xe3\\x81\\xaf\\xe3\\x80\\x81\\xe5\\xbd\\xbc\\xe3\\x80\\x8a\\xe3\\x81\\x8b\\xe3\\x82\\x8c\\xe3\\x80\\x8b\\xe3\\x81\\xab\\xe5\\x8f\\x96\\xe3\\x80\\x8a\\xe3\\x81\\xa8\\xe3\\x80\\x8b\\xe3\\x81\\xa4\\xe3\\x81\\xa6\\xe3\\x81\\xaf\\xe8\\xb2\\xb4\\xe3\\x80\\x8a\\xe3\\x81\\x9f\\xe3\\x81\\xa4\\xe3\\x81\\xa8\\xe3\\x80\\x8b\\xe3\\x81\\x8d\\xe8\\x82\\x89\\xe3\\x80\\x8a\\xe3\\x81\\xab\\xe3\\x81\\x8f\\xe3\\x80\\x8b\\xe3\\x81\\xae\\xe5\\xaf\\xb6\\xe7\\x8e\\x89\\xe3\\x80\\x8a\\xe3\\x81\\xaf\\xe3\\x81\\x86\\xe3\\x81\\x8e\\xe3\\x82\\x88\\xe3\\x81\\x8f\\xe3\\x80\\x8b\\xe3\\x81\\xa7\\xe3\\x81\\x82\\xe3\\x81\\xa4\\xe3\\x81\\x9f\\xe3\\x80\\x82\\xe6\\x8b\\x87\\xe6\\x8c\\x87\\xe3\\x80\\x8a\\xe3\\x81\\x8a\\xe3\\x82\\x84\\xe3\\x82\\x86\\xe3\\x81\\xb3\\xe3\\x80\\x8b\\xe3\\x81\\x8b\\xe3\\x82\\x89\\xe8\\xb5\\xb7\\xe3\\x80\\x8a\\xe3\\x81\\x8a\\xe3\\x81\\x93\\xe3\\x80\\x8b\\xe3\\x81\\xa4\\xe3\\x81\\xa6\\xe5\\xb0\\x8f\\xe6\\x8c\\x87\\xe3\\x80\\x8a\\xe3\\x81\\x93\\xe3\\x82\\x86\\xe3\\x81\\xb3\\xe3\\x80\\x8b\\xe3\\x81\\xab\\xe7\\xb5\\x82\\xe3\\x80\\x8a\\xe3\\x82\\x92\\xe3\\x81\\xaf\\xe3\\x80\\x8b\\xe3\\x82\\x8b\\xe7\\xb9\\x8a\\xe7\\xb4\\xb0\\xe3\\x80\\x8a\\xe3\\x81\\x9b\\xe3\\x82\\x93\\xe3\\x81\\x95\\xe3\\x81\\x84\\xe3\\x80\\x8b\\xe3\\x81\\xaa\\xe4\\xba\\x94\\xef\\xbd\\x9c\\xe6\\x9c\\xac\\xe3\\x80\\x8a\\xe3\\x81\\xbb\\xe3\\x82\\x93\\xe3\\x80\\x8b\\xe3\\x81\\xae\\xe6\\x8c\\x87\\xe3\\x80\\x8a\\xe3\\x82\\x86\\xe3\\x81\\xb3\\xe3\\x80\\x8b\\xe3\\x81\\xae\\xe6\\x95\\xb4\\xe3\\x80\\x8a\\xe3\\x81\\xa8\\xe3\\x82\\x9d\\xe3\\x81\\xae\\xe3\\x80\\x8b\\xe3\\x81\\xb2\\xe6\\x96\\xb9\\xe3\\x80\\x8a\\xe3\\x81\\x8b\\xe3\\x81\\x9f\\xe3\\x80\\x8b\\xe3\\x80\\x81\\xe7\\xb9\\xaa\\xe3\\x80\\x8a\\xe3\\x82\\x91\\xe3\\x80\\x8b\\xe3\\x81\\xae\\xe5\\xb3\\xb6\\xe3\\x80\\x8a\\xe3\\x81\\x97\\xe3\\x81\\xbe\\xe3\\x80\\x8b\\xe3\\x81\\xae\\xef\\xa9\\x85\\xe9\\x82\\x8a\\xe3\\x80\\x8a\\xe3\\x81\\x86\\xe3\\x81\\xbf\\xe3\\x81\\xb9\\xe3\\x80\\x8b\\xe3\\x81\\xa7\\xe7\\x8d\\xb2\\xe3\\x80\\x8a\\xe3\\x81\\xa8\\xe3\\x80\\x8b\\xe3\\x82\\x8c\\xe3\\x82\\x8b\\xe3\\x81\\x86\\xe3\\x81\\x99\\xe3\\x81\\xb9\\xe3\\x81\\xab\\xe8\\x89\\xb2\\xe3\\x80\\x8a\\xe3\\x81\\x84\\xe3\\x82\\x8d\\xe3\\x80\\x8b\\xe3\\x81\\xae\\xe8\\xb2\\x9d\\xe3\\x80\\x8a\\xe3\\x81\\x8b\\xe3\\x81\\xb2\\xe3\\x80\\x8b\\xe3\\x81\\xab\\xe3\\x82\\x82\\xe5\\x8a\\xa3\\xe3\\x80\\x8a\\xe3\\x81\\x8a\\xe3\\x81\\xa8\\xe3\\x80\\x8b\\xe3\\x82\\x89\\xe3\\x81\\xac\\xe7\\x88\\xaa\\xe3\\x80\\x8a\\xe3\\x81\\xa4\\xe3\\x82\\x81\\xe3\\x80\\x8b\\xe3\\x81\\xae\\xe8\\x89\\xb2\\xe5\\x90\\x88\\xe3\\x80\\x8a\\xe3\\x81\\x84\\xe3\\x82\\x8d\\xe3\\x81\\x82\\xe3\\x81\\xb2\\xe3\\x80\\x8b\\xe3\\x80\\x81\\xe7\\x8f\\xa0\\xe3\\x80\\x8a\\xe3\\x81\\x9f\\xe3\\x81\\xbe\\xe3\\x80\\x8b\\xe3\\x81\\xae\\xe3\\x82\\x84\\xe3\\x81\\x86\\xe3\\x81\\xaa\\xe8\\xb8\\xb5\\xe3\\x80\\x8a\\xe3\\x81\\x8d\\xe3\\x81\\xb3\\xe3\\x81\\x99\\xe3\\x80\\x8b\\xe3\\x81\\xae\\xe3\\x81\\xbe\\xe3\\x82\\x8b\\xe5\\x91\\xb3\\xe3\\x80\\x8a\\xe3\\x81\\xbf\\xe3\\x80\\x8b\\xe3\\x80\\x81\\xe6\\xb7\\xb8\\xe5\\x86\\xbd\\xe3\\x80\\x8a\\xe3\\x81\\x9b\\xe3\\x81\\x84\\xe3\\x82\\x8c\\xe3\\x81\\xa4\\xe3\\x80\\x8b\\xe3\\x81\\xaa\\xe5\\xb2\\xa9\\xe9\\x96\\x93\\xe3\\x80\\x8a\\xe3\\x81\\x84\\xe3\\x81\\xaf\\xe3\\x81\\xbe\\xe3\\x80\\x8b\\xe3\\x81\\xae\\xe6\\xb0\\xb4\\xe3\\x80\\x8a\\xe3\\x81\\xbf\\xe3\\x81\\xa5\\xe3\\x80\\x8b\\xe3\\x81\\x8c\\xe7\\xb5\\x95\\xe3\\x80\\x8a\\xe3\\x81\\x9f\\xe3\\x80\\x8b\\xe3\\x81\\x88\\xe3\\x81\\x9a\\xe8\\xb6\\xb3\\xe4\\xb8\\x8b\\xe3\\x80\\x8a\\xe3\\x81\\x82\\xe3\\x81\\x97\\xe3\\x82\\x82\\xe3\\x81\\xa8\\xe3\\x80\\x8b\\xe3\\x82\\x92\\xe6\\xb4\\x97\\xe3\\x80\\x8a\\xe3\\x81\\x82\\xe3\\x82\\x89\\xe3\\x80\\x8b\\xe3\\x81\\xb5\\xe3\\x81\\x8b\\xe3\\x81\\xa8\\xe7\\x96\\x91\\xe3\\x80\\x8a\\xe3\\x81\\x86\\xe3\\x81\\x9f\\xe3\\x81\\x8c\\xe3\\x80\\x8b\\xe3\\x81\\xaf\\xe3\\x82\\x8c\\xe3\\x82\\x8b\\xe7\\x9a\\xae\\xe8\\x86\\x9a\\xe3\\x80\\x8a\\xe3\\x81\\xb2\\xe3\\x81\\xb5\\xe3\\x80\\x8b\\xe3\\x81\\xae\\xe6\\xbd\\xa4\\xe6\\xbe\\xa4\\xe3\\x80\\x8a\\xe3\\x81\\x98\\xe3\\x82\\x86\\xe3\\x82\\x93\\xe3\\x81\\x9f\\xe3\\x81\\x8f\\xe3\\x80\\x8b\\xe3\\x80\\x82\\xe3\\x81\\x93\\xe3\\x81\\xae\\xe8\\xb6\\xb3\\xe3\\x80\\x8a\\xe3\\x81\\x82\\xe3\\x81\\x97\\xe3\\x80\\x8b\\xe3\\x81\\x93\\xe3\\x81\\x9d\\xe3\\x81\\xaf\\xe3\\x80\\x81\\xe3\\x82\\x84\\xe3\\x81\\x8c\\xe3\\x81\\xa6\\xe7\\x94\\xb7\\xe3\\x80\\x8a\\xe3\\x82\\x92\\xe3\\x81\\xa8\\xe3\\x81\\x93\\xe3\\x80\\x8b\\xe3\\x81\\xae\\xe7\\x94\\x9f\\xe8\\xa1\\x80\\xe3\\x80\\x8a\\xe3\\x81\\x84\\xe3\\x81\\x8d\\xe3\\x81\\xa1\\xe3\\x80\\x8b\\xe3\\x81\\xab\\xe8\\x82\\xa5\\xe3\\x80\\x8a\\xe3\\x81\\x93\\xe3\\x80\\x8b\\xe3\\x81\\x88\\xe5\\xa4\\xaa\\xe3\\x80\\x8a\\xe3\\x81\\xb5\\xe3\\x81\\xa8\\xe3\\x80\\x8b\\xe3\\x82\\x8a\\xe3\\x80\\x81\\xe7\\x94\\xb7\\xe3\\x80\\x8a\\xe3\\x82\\x92\\xe3\\x81\\xa8\\xe3\\x81\\x93\\xe3\\x80\\x8b\\xe3\\x81\\xae\\xe3\\x82\\x80\\xe3\\x81\\x8f\\xe3\\x82\\x8d\\xe3\\x82\\x92\\xe8\\xb9\\x88\\xe3\\x80\\x8a\\xe3\\x81\\xb5\\xe3\\x80\\x8b\\xe3\\x81\\xbf\\xe3\\x81\\xa4\\xe3\\x81\\x91\\xe3\\x82\\x8b\\xe8\\xb6\\xb3\\xe3\\x80\\x8a\\xe3\\x81\\x82\\xe3\\x81\\x97\\xe3\\x80\\x8b\\xe3\\x81\\xa7\\xe3\\x81\\x82\\xe3\\x81\\xa4\\xe3\\x81\\x9f\\xe3\\x80\\x82\\xe3\\x81\\x93\\xe3\\x81\\xae\\xe8\\xb6\\xb3\\xe3\\x80\\x8a\\xe3\\x81\\x82\\xe3\\x81\\x97\\xe3\\x80\\x8b\\xe3\\x82\\x92\\xe6\\x8c\\x81\\xe3\\x80\\x8a\\xe3\\x82\\x82\\xe3\\x80\\x8b\\xe3\\x81\\xa4\\xe5\\xa5\\xb3\\xe3\\x80\\x8a\\xe3\\x82\\x92\\xe3\\x82\\x93\\xe3\\x81\\xaa\\xe3\\x80\\x8b\\xe3\\x81\\x93\\xe3\\x81\\x9d\\xe3\\x81\\xaf\\xe3\\x80\\x81\\xe5\\xbd\\xbc\\xe3\\x80\\x8a\\xe3\\x81\\x8b\\xe3\\x82\\x8c\\xe3\\x80\\x8b\\xe3\\x81\\x8c\\xe6\\xb0\\xb8\\xe5\\xb9\\xb4\\xe3\\x80\\x8a\\xe3\\x81\\xaa\\xe3\\x81\\x8c\\xe3\\x81\\xad\\xe3\\x82\\x93\\xe3\\x80\\x8b\\xe3\\x81\\x9f\\xe3\\x81\\xa5\\xe3\\x81\\xad\\xe3\\x81\\x82\\xe3\\x81\\x90\\xe3\\x82\\x80\\xe3\\x81\\xa0\\xe5\\xa5\\xb3\\xe3\\x80\\x8a\\xe3\\x82\\x92\\xe3\\x82\\x93\\xe3\\x81\\xaa\\xe3\\x80\\x8b\\xe3\\x81\\xae\\xe4\\xb8\\xad\\xe3\\x80\\x8a\\xe3\\x81\\xaa\\xe3\\x81\\x8b\\xe3\\x80\\x8b\\xe3\\x81\\xae\\xe5\\xa5\\xb3\\xe3\\x80\\x8a\\xe3\\x82\\x92\\xe3\\x82\\x93\\xe3\\x81\\xaa\\xe3\\x80\\x8b\\xe3\\x81\\xa7\\xe3\\x81\\x82\\xe3\\x82\\x89\\xe3\\x81\\x86\\xe3\\x81\\xa8\\xe6\\x80\\x9d\\xe3\\x80\\x8a\\xe3\\x81\\x8a\\xe3\\x82\\x82\\xe3\\x80\\x8b\\xe3\\x81\\xaf\\xe3\\x82\\x8c\\xe3\\x81\\x9f\\xe3\\x80\\x82\\xe6\\xb7\\xb8\\xe5\\x90\\x89\\xe3\\x80\\x8a\\xe3\\x81\\x9b\\xe3\\x81\\x84\\xe3\\x81\\x8d\\xe3\\x81\\xa1\\xe3\\x80\\x8b\\xe3\\x81\\xaf\\xe8\\xba\\x8d\\xe3\\x80\\x8a\\xe3\\x82\\x92\\xe3\\x81\\xa9\\xe3\\x80\\x8b\\xe3\\x82\\x8a\\xe3\\x81\\x9f\\xe3\\x81\\xa4\\xe8\\x83\\xb8\\xe3\\x80\\x8a\\xe3\\x82\\x80\\xe3\\x81\\xad\\xe3\\x80\\x8b\\xe3\\x82\\x92\\xe3\\x81\\x8a\\xe3\\x81\\x95\\xe3\\x81\\xb8\\xe3\\x81\\xa6\\xe3\\x80\\x81\\xe5\\x85\\xb6\\xe3\\x80\\x8a\\xe3\\x81\\x9d\\xe3\\x80\\x8b\\xe3\\x81\\xae\\xe4\\xba\\xba\\xe3\\x80\\x8a\\xe3\\x81\\xb2\\xe3\\x81\\xa8\\xe3\\x80\\x8b\\xe3\\x81\\xae\\xe9\\xa1\\x8f\\xe3\\x80\\x8a\\xe3\\x81\\x8b\\xe3\\x81\\xbb\\xe3\\x80\\x8b\\xe3\\x81\\x8c\\xe8\\xa6\\x8b\\xe3\\x80\\x8a\\xe3\\x81\\xbf\\xe3\\x80\\x8b\\xe3\\x81\\x9f\\xe3\\x81\\x95\\xe3\\x81\\xab\\xe9\\xa7\\x95\\xe7\\xb1\\xa0\\xe3\\x80\\x8a\\xe3\\x81\\x8b\\xe3\\x81\\x94\\xe3\\x80\\x8b\\xe3\\x81\\xae\\xe5\\xbe\\x8c\\xe3\\x80\\x8a\\xe3\\x81\\x82\\xe3\\x81\\xa8\\xe3\\x80\\x8b\\xe3\\x82\\x92\\xe8\\xbf\\xbd\\xe3\\x80\\x8a\\xe3\\x81\\x8a\\xe3\\x80\\x8b\\xe3\\x81\\xb2\\xe3\\x81\\x8b\\xe3\\x81\\x91\\xe3\\x81\\x9f\\xe3\\x81\\x8c\\xe3\\x80\\x81\\xe4\\xba\\x8c\\xe4\\xb8\\x89\\xef\\xbd\\x9c\\xe7\\x94\\xba\\xe3\\x80\\x8a\\xe3\\x81\\xa1\\xe3\\x82\\x84\\xe3\\x81\\x86\\xe3\\x80\\x8b\\xe8\\xa1\\x8c\\xe3\\x80\\x8a\\xe3\\x82\\x86\\xe3\\x80\\x8b\\xe3\\x81\\x8f\\xe3\\x81\\xa8\\xe3\\x80\\x81\\xe3\\x82\\x82\\xe3\\x81\\x86\\xe5\\x85\\xb6\\xe3\\x80\\x8a\\xe3\\x81\\x9d\\xe3\\x80\\x8b\\xe3\\x81\\xae\\xe5\\xbd\\xb1\\xe3\\x80\\x8a\\xe3\\x81\\x8b\\xe3\\x81\\x92\\xe3\\x80\\x8b\\xe3\\x81\\xaf\\xe8\\xa6\\x8b\\xe3\\x80\\x8a\\xe3\\x81\\xbf\\xe3\\x80\\x8b\\xe3\\x81\\x88\\xe3\\x81\\xaa\\xe3\\x81\\x8b\\xe3\\x81\\xa4\\xe3\\x81\\x9f\\xe3\\x80\\x82\\n'"
      ]
     },
     "execution_count": 74,
     "metadata": {},
     "output_type": "execute_result"
    }
   ],
   "source": [
    "lines[-1].encode(\"UTF-8-SIG\")"
   ]
  },
  {
   "cell_type": "markdown",
   "metadata": {},
   "source": [
    "Another file"
   ]
  },
  {
   "cell_type": "code",
   "execution_count": 75,
   "metadata": {
    "collapsed": true
   },
   "outputs": [],
   "source": [
    "_file = \"data/char-encoding/yan_BIG-5.txt\"\n",
    "with open(_file, 'rb') as f:\n",
    "    result = chardet.detect(f.read(10000))"
   ]
  },
  {
   "cell_type": "code",
   "execution_count": 76,
   "metadata": {},
   "outputs": [
    {
     "data": {
      "text/plain": [
       "{'confidence': 0.99, 'encoding': 'Big5', 'language': 'Chinese'}"
      ]
     },
     "execution_count": 76,
     "metadata": {},
     "output_type": "execute_result"
    }
   ],
   "source": [
    "result"
   ]
  },
  {
   "cell_type": "code",
   "execution_count": 77,
   "metadata": {
    "collapsed": true
   },
   "outputs": [],
   "source": [
    "with open(_file, encoding='Big5') as f:\n",
    "    lines = f.readlines(5000)"
   ]
  },
  {
   "cell_type": "code",
   "execution_count": 78,
   "metadata": {},
   "outputs": [
    {
     "data": {
      "text/plain": [
       "'    《家語》曰：「君子不博，為其兼行惡道故也。」《論語》云：「不\\n'"
      ]
     },
     "execution_count": 78,
     "metadata": {},
     "output_type": "execute_result"
    }
   ],
   "source": [
    "lines[-1]"
   ]
  },
  {
   "cell_type": "code",
   "execution_count": 79,
   "metadata": {},
   "outputs": [
    {
     "data": {
      "text/plain": [
       "b'    \\xa1m\\xaea\\xbby\\xa1n\\xa4\\xea\\xa1G\\xa1u\\xa7g\\xa4l\\xa4\\xa3\\xb3\\xd5\\xa1A\\xac\\xb0\\xa8\\xe4\\xad\\xdd\\xa6\\xe6\\xb4c\\xb9D\\xacG\\xa4]\\xa1C\\xa1v\\xa1m\\xbd\\xd7\\xbby\\xa1n\\xa4\\xaa\\xa1G\\xa1u\\xa4\\xa3\\n'"
      ]
     },
     "execution_count": 79,
     "metadata": {},
     "output_type": "execute_result"
    }
   ],
   "source": [
    "lines[-1].encode(\"Big5\")"
   ]
  },
  {
   "cell_type": "markdown",
   "metadata": {},
   "source": [
    "[TOC](#TOC)"
   ]
  },
  {
   "cell_type": "code",
   "execution_count": null,
   "metadata": {
    "collapsed": true
   },
   "outputs": [],
   "source": []
  }
 ],
 "metadata": {
  "kernelspec": {
   "display_name": "Python 3",
   "language": "python",
   "name": "python3"
  },
  "language_info": {
   "codemirror_mode": {
    "name": "ipython",
    "version": 3
   },
   "file_extension": ".py",
   "mimetype": "text/x-python",
   "name": "python",
   "nbconvert_exporter": "python",
   "pygments_lexer": "ipython3",
   "version": "3.6.1"
  }
 },
 "nbformat": 4,
 "nbformat_minor": 2
}
