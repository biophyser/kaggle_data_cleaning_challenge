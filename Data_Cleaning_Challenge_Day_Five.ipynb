{
 "cells": [
  {
   "cell_type": "markdown",
   "metadata": {},
   "source": [
    "# Inconsistent Data Entry\n",
    "## Table of Contents <a id='TOC'></a>\n",
    "- [Package Import](#package-import)\n",
    "- [Data Import](#data-import)\n",
    "- [Text pre-processing](#text-pre-processing)\n",
    "- [Using fuzzy matching](#using-fuzzy-matching)\n",
    "- [The first city name](#city-one)\n",
    "- [The second city name](#city-two)\n",
    "- [Extra Work](#extra-work)"
   ]
  },
  {
   "cell_type": "markdown",
   "metadata": {},
   "source": [
    "## Package Import <a id='package-import'></a>\n",
    "[TOC](#TOC)"
   ]
  },
  {
   "cell_type": "code",
   "execution_count": 1,
   "metadata": {},
   "outputs": [],
   "source": [
    "import pandas as pd\n",
    "import numpy as np\n",
    "\n",
    "import fuzzywuzzy\n",
    "from fuzzywuzzy import process\n",
    "import chardet\n",
    "\n",
    "np.random.seed(0)"
   ]
  },
  {
   "cell_type": "markdown",
   "metadata": {},
   "source": [
    "## Data Import <a id='data-import'></a>\n",
    "[TOC](#TOC)"
   ]
  },
  {
   "cell_type": "code",
   "execution_count": 64,
   "metadata": {},
   "outputs": [
    {
     "data": {
      "text/plain": [
       "{'confidence': 0.73, 'encoding': 'Windows-1252', 'language': ''}"
      ]
     },
     "execution_count": 64,
     "metadata": {},
     "output_type": "execute_result"
    }
   ],
   "source": [
    "# look at the first ten thousand bytes to guess the character encoding\n",
    "_file = \"data/PakistanSuicideAttacks Ver 11 (30-November-2017).csv\"\n",
    "with open(_file, 'rb') as f:\n",
    "    result = chardet.detect(f.read(100000))\n",
    "# see what the character encoding might be\n",
    "result"
   ]
  },
  {
   "cell_type": "code",
   "execution_count": 65,
   "metadata": {
    "collapsed": true
   },
   "outputs": [],
   "source": [
    "suicide_attacks = pd.read_csv(_file, encoding=\"Windows-1252\")"
   ]
  },
  {
   "cell_type": "code",
   "execution_count": 5,
   "metadata": {},
   "outputs": [
    {
     "data": {
      "text/html": [
       "<div>\n",
       "<style>\n",
       "    .dataframe thead tr:only-child th {\n",
       "        text-align: right;\n",
       "    }\n",
       "\n",
       "    .dataframe thead th {\n",
       "        text-align: left;\n",
       "    }\n",
       "\n",
       "    .dataframe tbody tr th {\n",
       "        vertical-align: top;\n",
       "    }\n",
       "</style>\n",
       "<table border=\"1\" class=\"dataframe\">\n",
       "  <thead>\n",
       "    <tr style=\"text-align: right;\">\n",
       "      <th></th>\n",
       "      <th>S#</th>\n",
       "      <th>Date</th>\n",
       "      <th>Islamic Date</th>\n",
       "      <th>Blast Day Type</th>\n",
       "      <th>Holiday Type</th>\n",
       "      <th>Time</th>\n",
       "      <th>City</th>\n",
       "      <th>Latitude</th>\n",
       "      <th>Longitude</th>\n",
       "      <th>Province</th>\n",
       "      <th>...</th>\n",
       "      <th>Targeted Sect if any</th>\n",
       "      <th>Killed Min</th>\n",
       "      <th>Killed Max</th>\n",
       "      <th>Injured Min</th>\n",
       "      <th>Injured Max</th>\n",
       "      <th>No. of Suicide Blasts</th>\n",
       "      <th>Explosive Weight (max)</th>\n",
       "      <th>Hospital Names</th>\n",
       "      <th>Temperature(C)</th>\n",
       "      <th>Temperature(F)</th>\n",
       "    </tr>\n",
       "  </thead>\n",
       "  <tbody>\n",
       "    <tr>\n",
       "      <th>0</th>\n",
       "      <td>1</td>\n",
       "      <td>Sunday-November 19-1995</td>\n",
       "      <td>25 Jumaada al-THaany 1416 A.H</td>\n",
       "      <td>Holiday</td>\n",
       "      <td>Weekend</td>\n",
       "      <td>NaN</td>\n",
       "      <td>Islamabad</td>\n",
       "      <td>33.7180</td>\n",
       "      <td>73.0718</td>\n",
       "      <td>Capital</td>\n",
       "      <td>...</td>\n",
       "      <td>None</td>\n",
       "      <td>14.0</td>\n",
       "      <td>15.0</td>\n",
       "      <td>NaN</td>\n",
       "      <td>60</td>\n",
       "      <td>2.0</td>\n",
       "      <td>NaN</td>\n",
       "      <td>NaN</td>\n",
       "      <td>15.835</td>\n",
       "      <td>60.503</td>\n",
       "    </tr>\n",
       "    <tr>\n",
       "      <th>1</th>\n",
       "      <td>2</td>\n",
       "      <td>Monday-November 6-2000</td>\n",
       "      <td>10 SHa`baan 1421 A.H</td>\n",
       "      <td>Working Day</td>\n",
       "      <td>NaN</td>\n",
       "      <td>NaN</td>\n",
       "      <td>Karachi</td>\n",
       "      <td>24.9918</td>\n",
       "      <td>66.9911</td>\n",
       "      <td>Sindh</td>\n",
       "      <td>...</td>\n",
       "      <td>None</td>\n",
       "      <td>NaN</td>\n",
       "      <td>3.0</td>\n",
       "      <td>NaN</td>\n",
       "      <td>3</td>\n",
       "      <td>1.0</td>\n",
       "      <td>NaN</td>\n",
       "      <td>NaN</td>\n",
       "      <td>23.770</td>\n",
       "      <td>74.786</td>\n",
       "    </tr>\n",
       "    <tr>\n",
       "      <th>2</th>\n",
       "      <td>3</td>\n",
       "      <td>Wednesday-May 8-2002</td>\n",
       "      <td>25 safar 1423 A.H</td>\n",
       "      <td>Working Day</td>\n",
       "      <td>NaN</td>\n",
       "      <td>7:45 AM</td>\n",
       "      <td>Karachi</td>\n",
       "      <td>24.9918</td>\n",
       "      <td>66.9911</td>\n",
       "      <td>Sindh</td>\n",
       "      <td>...</td>\n",
       "      <td>Christian</td>\n",
       "      <td>13.0</td>\n",
       "      <td>15.0</td>\n",
       "      <td>20.0</td>\n",
       "      <td>40</td>\n",
       "      <td>1.0</td>\n",
       "      <td>2.5 Kg</td>\n",
       "      <td>1.Jinnah Postgraduate Medical Center 2. Civil ...</td>\n",
       "      <td>31.460</td>\n",
       "      <td>88.628</td>\n",
       "    </tr>\n",
       "    <tr>\n",
       "      <th>3</th>\n",
       "      <td>4</td>\n",
       "      <td>Friday-June 14-2002</td>\n",
       "      <td>3 Raby` al-THaany 1423 A.H</td>\n",
       "      <td>Working Day</td>\n",
       "      <td>NaN</td>\n",
       "      <td>11:10:00 AM</td>\n",
       "      <td>Karachi</td>\n",
       "      <td>24.9918</td>\n",
       "      <td>66.9911</td>\n",
       "      <td>Sindh</td>\n",
       "      <td>...</td>\n",
       "      <td>Christian</td>\n",
       "      <td>NaN</td>\n",
       "      <td>12.0</td>\n",
       "      <td>NaN</td>\n",
       "      <td>51</td>\n",
       "      <td>1.0</td>\n",
       "      <td>NaN</td>\n",
       "      <td>NaN</td>\n",
       "      <td>31.430</td>\n",
       "      <td>88.574</td>\n",
       "    </tr>\n",
       "    <tr>\n",
       "      <th>4</th>\n",
       "      <td>5</td>\n",
       "      <td>Friday-July 4-2003</td>\n",
       "      <td>4 Jumaada al-awal 1424 A.H</td>\n",
       "      <td>Working Day</td>\n",
       "      <td>NaN</td>\n",
       "      <td>NaN</td>\n",
       "      <td>Quetta</td>\n",
       "      <td>30.2095</td>\n",
       "      <td>67.0182</td>\n",
       "      <td>Baluchistan</td>\n",
       "      <td>...</td>\n",
       "      <td>Shiite</td>\n",
       "      <td>44.0</td>\n",
       "      <td>47.0</td>\n",
       "      <td>NaN</td>\n",
       "      <td>65</td>\n",
       "      <td>1.0</td>\n",
       "      <td>NaN</td>\n",
       "      <td>1.CMH Quetta \\n2.Civil Hospital 3. Boland Medi...</td>\n",
       "      <td>33.120</td>\n",
       "      <td>91.616</td>\n",
       "    </tr>\n",
       "  </tbody>\n",
       "</table>\n",
       "<p>5 rows × 26 columns</p>\n",
       "</div>"
      ],
      "text/plain": [
       "   S#                     Date                   Islamic Date Blast Day Type  \\\n",
       "0   1  Sunday-November 19-1995  25 Jumaada al-THaany 1416 A.H        Holiday   \n",
       "1   2   Monday-November 6-2000           10 SHa`baan 1421 A.H    Working Day   \n",
       "2   3     Wednesday-May 8-2002              25 safar 1423 A.H    Working Day   \n",
       "3   4      Friday-June 14-2002     3 Raby` al-THaany 1423 A.H    Working Day   \n",
       "4   5       Friday-July 4-2003     4 Jumaada al-awal 1424 A.H    Working Day   \n",
       "\n",
       "  Holiday Type         Time       City  Latitude Longitude     Province  \\\n",
       "0      Weekend          NaN  Islamabad   33.7180   73.0718      Capital   \n",
       "1          NaN          NaN    Karachi   24.9918   66.9911        Sindh   \n",
       "2          NaN      7:45 AM   Karachi    24.9918   66.9911        Sindh   \n",
       "3          NaN  11:10:00 AM    Karachi   24.9918   66.9911        Sindh   \n",
       "4          NaN          NaN     Quetta   30.2095   67.0182  Baluchistan   \n",
       "\n",
       "        ...       Targeted Sect if any Killed Min Killed Max Injured Min  \\\n",
       "0       ...                       None       14.0       15.0         NaN   \n",
       "1       ...                       None        NaN        3.0         NaN   \n",
       "2       ...                  Christian       13.0       15.0        20.0   \n",
       "3       ...                  Christian        NaN       12.0         NaN   \n",
       "4       ...                     Shiite       44.0       47.0         NaN   \n",
       "\n",
       "  Injured Max No. of Suicide Blasts Explosive Weight (max)  \\\n",
       "0          60                   2.0                    NaN   \n",
       "1           3                   1.0                    NaN   \n",
       "2          40                   1.0                 2.5 Kg   \n",
       "3          51                   1.0                    NaN   \n",
       "4          65                   1.0                    NaN   \n",
       "\n",
       "                                      Hospital Names  Temperature(C)  \\\n",
       "0                                                NaN          15.835   \n",
       "1                                                NaN          23.770   \n",
       "2  1.Jinnah Postgraduate Medical Center 2. Civil ...          31.460   \n",
       "3                                                NaN          31.430   \n",
       "4  1.CMH Quetta \\n2.Civil Hospital 3. Boland Medi...          33.120   \n",
       "\n",
       "   Temperature(F)  \n",
       "0          60.503  \n",
       "1          74.786  \n",
       "2          88.628  \n",
       "3          88.574  \n",
       "4          91.616  \n",
       "\n",
       "[5 rows x 26 columns]"
      ]
     },
     "execution_count": 5,
     "metadata": {},
     "output_type": "execute_result"
    }
   ],
   "source": [
    "suicide_attacks.head()"
   ]
  },
  {
   "cell_type": "code",
   "execution_count": 4,
   "metadata": {},
   "outputs": [
    {
     "data": {
      "text/html": [
       "<div>\n",
       "<style>\n",
       "    .dataframe thead tr:only-child th {\n",
       "        text-align: right;\n",
       "    }\n",
       "\n",
       "    .dataframe thead th {\n",
       "        text-align: left;\n",
       "    }\n",
       "\n",
       "    .dataframe tbody tr th {\n",
       "        vertical-align: top;\n",
       "    }\n",
       "</style>\n",
       "<table border=\"1\" class=\"dataframe\">\n",
       "  <thead>\n",
       "    <tr style=\"text-align: right;\">\n",
       "      <th></th>\n",
       "      <th>S#</th>\n",
       "      <th>Latitude</th>\n",
       "      <th>Killed Min</th>\n",
       "      <th>Killed Max</th>\n",
       "      <th>Injured Min</th>\n",
       "      <th>No. of Suicide Blasts</th>\n",
       "      <th>Temperature(C)</th>\n",
       "      <th>Temperature(F)</th>\n",
       "    </tr>\n",
       "  </thead>\n",
       "  <tbody>\n",
       "    <tr>\n",
       "      <th>count</th>\n",
       "      <td>496.000000</td>\n",
       "      <td>493.000000</td>\n",
       "      <td>350.000000</td>\n",
       "      <td>480.000000</td>\n",
       "      <td>365.000000</td>\n",
       "      <td>414.000000</td>\n",
       "      <td>491.000000</td>\n",
       "      <td>489.000000</td>\n",
       "    </tr>\n",
       "    <tr>\n",
       "      <th>mean</th>\n",
       "      <td>248.500000</td>\n",
       "      <td>32.614705</td>\n",
       "      <td>14.725714</td>\n",
       "      <td>15.206250</td>\n",
       "      <td>31.397260</td>\n",
       "      <td>1.115942</td>\n",
       "      <td>21.111599</td>\n",
       "      <td>69.972579</td>\n",
       "    </tr>\n",
       "    <tr>\n",
       "      <th>std</th>\n",
       "      <td>143.327132</td>\n",
       "      <td>2.475917</td>\n",
       "      <td>17.600930</td>\n",
       "      <td>20.270436</td>\n",
       "      <td>38.603842</td>\n",
       "      <td>0.394989</td>\n",
       "      <td>8.369068</td>\n",
       "      <td>15.069622</td>\n",
       "    </tr>\n",
       "    <tr>\n",
       "      <th>min</th>\n",
       "      <td>1.000000</td>\n",
       "      <td>24.879503</td>\n",
       "      <td>0.000000</td>\n",
       "      <td>0.000000</td>\n",
       "      <td>0.000000</td>\n",
       "      <td>1.000000</td>\n",
       "      <td>-2.370000</td>\n",
       "      <td>27.734000</td>\n",
       "    </tr>\n",
       "    <tr>\n",
       "      <th>25%</th>\n",
       "      <td>124.750000</td>\n",
       "      <td>31.823800</td>\n",
       "      <td>3.000000</td>\n",
       "      <td>3.000000</td>\n",
       "      <td>7.000000</td>\n",
       "      <td>1.000000</td>\n",
       "      <td>14.690000</td>\n",
       "      <td>58.370000</td>\n",
       "    </tr>\n",
       "    <tr>\n",
       "      <th>50%</th>\n",
       "      <td>248.500000</td>\n",
       "      <td>33.583300</td>\n",
       "      <td>8.000000</td>\n",
       "      <td>8.000000</td>\n",
       "      <td>20.000000</td>\n",
       "      <td>1.000000</td>\n",
       "      <td>21.405000</td>\n",
       "      <td>70.529000</td>\n",
       "    </tr>\n",
       "    <tr>\n",
       "      <th>75%</th>\n",
       "      <td>372.250000</td>\n",
       "      <td>34.004300</td>\n",
       "      <td>20.000000</td>\n",
       "      <td>18.250000</td>\n",
       "      <td>40.000000</td>\n",
       "      <td>1.000000</td>\n",
       "      <td>28.115000</td>\n",
       "      <td>82.499000</td>\n",
       "    </tr>\n",
       "    <tr>\n",
       "      <th>max</th>\n",
       "      <td>496.000000</td>\n",
       "      <td>35.383300</td>\n",
       "      <td>125.000000</td>\n",
       "      <td>148.000000</td>\n",
       "      <td>320.000000</td>\n",
       "      <td>4.000000</td>\n",
       "      <td>44.000000</td>\n",
       "      <td>111.000000</td>\n",
       "    </tr>\n",
       "  </tbody>\n",
       "</table>\n",
       "</div>"
      ],
      "text/plain": [
       "               S#    Latitude  Killed Min  Killed Max  Injured Min  \\\n",
       "count  496.000000  493.000000  350.000000  480.000000   365.000000   \n",
       "mean   248.500000   32.614705   14.725714   15.206250    31.397260   \n",
       "std    143.327132    2.475917   17.600930   20.270436    38.603842   \n",
       "min      1.000000   24.879503    0.000000    0.000000     0.000000   \n",
       "25%    124.750000   31.823800    3.000000    3.000000     7.000000   \n",
       "50%    248.500000   33.583300    8.000000    8.000000    20.000000   \n",
       "75%    372.250000   34.004300   20.000000   18.250000    40.000000   \n",
       "max    496.000000   35.383300  125.000000  148.000000   320.000000   \n",
       "\n",
       "       No. of Suicide Blasts  Temperature(C)  Temperature(F)  \n",
       "count             414.000000      491.000000      489.000000  \n",
       "mean                1.115942       21.111599       69.972579  \n",
       "std                 0.394989        8.369068       15.069622  \n",
       "min                 1.000000       -2.370000       27.734000  \n",
       "25%                 1.000000       14.690000       58.370000  \n",
       "50%                 1.000000       21.405000       70.529000  \n",
       "75%                 1.000000       28.115000       82.499000  \n",
       "max                 4.000000       44.000000      111.000000  "
      ]
     },
     "execution_count": 4,
     "metadata": {},
     "output_type": "execute_result"
    }
   ],
   "source": [
    "suicide_attacks.describe()"
   ]
  },
  {
   "cell_type": "markdown",
   "metadata": {},
   "source": [
    "## Text pre-processing <a id='text-pre-processing'></a>\n",
    "[TOC](#TOC)"
   ]
  },
  {
   "cell_type": "code",
   "execution_count": 66,
   "metadata": {},
   "outputs": [
    {
     "name": "stdout",
     "output_type": "stream",
     "text": [
      "ATTOCK\n",
      "Attock \n",
      "Bajaur Agency\n",
      "Bannu\n",
      "Bhakkar \n",
      "Buner\n",
      "Chakwal \n",
      "Chaman\n",
      "Charsadda\n",
      "Charsadda \n",
      "D. I Khan\n",
      "D.G Khan\n",
      "D.G Khan \n",
      "D.I Khan\n",
      "D.I Khan \n",
      "Dara Adam Khel\n",
      "Dara Adam khel\n",
      "Fateh Jang\n",
      "Ghallanai, Mohmand Agency \n",
      "Gujrat\n",
      "Hangu\n",
      "Haripur\n",
      "Hayatabad\n",
      "Islamabad\n",
      "Islamabad \n",
      "Jacobabad\n",
      "KURRAM AGENCY\n",
      "Karachi\n",
      "Karachi \n",
      "Karak\n",
      "Khanewal\n",
      "Khuzdar\n",
      "Khyber Agency\n",
      "Khyber Agency \n",
      "Kohat\n",
      "Kohat \n",
      "Kuram Agency \n",
      "Lahore\n",
      "Lahore \n",
      "Lakki Marwat\n",
      "Lakki marwat\n",
      "Lasbela\n",
      "Lower Dir\n",
      "MULTAN\n",
      "Malakand \n",
      "Mansehra\n",
      "Mardan\n",
      "Mohmand Agency\n",
      "Mohmand Agency \n",
      "Mohmand agency\n",
      "Mosal Kor, Mohmand Agency\n",
      "Multan\n",
      "Muzaffarabad\n",
      "North Waziristan\n",
      "North waziristan\n",
      "Nowshehra\n",
      "Orakzai Agency\n",
      "Peshawar\n",
      "Peshawar \n",
      "Pishin\n",
      "Poonch\n",
      "Quetta\n",
      "Quetta \n",
      "Rawalpindi\n",
      "Sargodha\n",
      "Sehwan town\n",
      "Shabqadar-Charsadda\n",
      "Shangla \n",
      "Shikarpur\n",
      "Sialkot\n",
      "South Waziristan\n",
      "South waziristan\n",
      "Sudhanoti\n",
      "Sukkur\n",
      "Swabi \n",
      "Swat\n",
      "Swat \n",
      "Taftan\n",
      "Tangi, Charsadda District\n",
      "Tank\n",
      "Tank \n",
      "Taunsa\n",
      "Tirah Valley\n",
      "Totalai\n",
      "Upper Dir\n",
      "Wagah\n",
      "Zhob\n",
      "bannu\n",
      "karachi\n",
      "karachi \n",
      "lakki marwat\n",
      "peshawar\n",
      "swat\n"
     ]
    }
   ],
   "source": [
    "# get all the unique values in the `City` column\n",
    "cities = suicide_attacks['City'].unique()\n",
    "\n",
    "# sort them alphabetically and then take a closer look\n",
    "cities.sort()\n",
    "for i in cities:\n",
    "    print(i)"
   ]
  },
  {
   "cell_type": "code",
   "execution_count": 67,
   "metadata": {
    "collapsed": true
   },
   "outputs": [],
   "source": [
    "# convert to lower case\n",
    "suicide_attacks['City'] = suicide_attacks['City'].str.lower()\n",
    "# remove trailing white spaces\n",
    "suicide_attacks['City'] = suicide_attacks['City'].str.strip()"
   ]
  },
  {
   "cell_type": "code",
   "execution_count": 68,
   "metadata": {},
   "outputs": [
    {
     "name": "stdout",
     "output_type": "stream",
     "text": [
      "AJK\n",
      "Balochistan\n",
      "Baluchistan\n",
      "Capital\n",
      "FATA\n",
      "Fata\n",
      "KPK\n",
      "Punjab\n",
      "Sindh\n"
     ]
    }
   ],
   "source": [
    "province = suicide_attacks['Province'].unique()\n",
    "province.sort()\n",
    "for i in province:\n",
    "    print(i)"
   ]
  },
  {
   "cell_type": "code",
   "execution_count": 69,
   "metadata": {
    "collapsed": true
   },
   "outputs": [],
   "source": [
    "suicide_attacks.Province = suicide_attacks.Province.str.lower()\n",
    "suicide_attacks.Province = suicide_attacks.Province.str.strip()"
   ]
  },
  {
   "cell_type": "markdown",
   "metadata": {},
   "source": [
    "## Using fuzzy matching to correct inconsistent data entry <a id='using-fuzzy-matching'></a>\n",
    "[TOC](#TOC)"
   ]
  },
  {
   "cell_type": "code",
   "execution_count": 70,
   "metadata": {},
   "outputs": [
    {
     "name": "stdout",
     "output_type": "stream",
     "text": [
      "attock\n",
      "bajaur agency\n",
      "bannu\n",
      "bhakkar\n",
      "buner\n",
      "chakwal\n",
      "chaman\n",
      "charsadda\n",
      "d. i khan\n",
      "d.g khan\n",
      "d.i khan\n",
      "dara adam khel\n",
      "fateh jang\n",
      "ghallanai, mohmand agency\n",
      "gujrat\n",
      "hangu\n",
      "haripur\n",
      "hayatabad\n",
      "islamabad\n",
      "jacobabad\n",
      "karachi\n",
      "karak\n",
      "khanewal\n",
      "khuzdar\n",
      "khyber agency\n",
      "kohat\n",
      "kuram agency\n",
      "kurram agency\n",
      "lahore\n",
      "lakki marwat\n",
      "lasbela\n",
      "lower dir\n",
      "malakand\n",
      "mansehra\n",
      "mardan\n",
      "mohmand agency\n",
      "mosal kor, mohmand agency\n",
      "multan\n",
      "muzaffarabad\n",
      "north waziristan\n",
      "nowshehra\n",
      "orakzai agency\n",
      "peshawar\n",
      "pishin\n",
      "poonch\n",
      "quetta\n",
      "rawalpindi\n",
      "sargodha\n",
      "sehwan town\n",
      "shabqadar-charsadda\n",
      "shangla\n",
      "shikarpur\n",
      "sialkot\n",
      "south waziristan\n",
      "sudhanoti\n",
      "sukkur\n",
      "swabi\n",
      "swat\n",
      "taftan\n",
      "tangi, charsadda district\n",
      "tank\n",
      "taunsa\n",
      "tirah valley\n",
      "totalai\n",
      "upper dir\n",
      "wagah\n",
      "zhob\n"
     ]
    }
   ],
   "source": [
    "cities = suicide_attacks['City'].unique()\n",
    "cities.sort()\n",
    "for i in cities:\n",
    "    print(i)"
   ]
  },
  {
   "cell_type": "markdown",
   "metadata": {},
   "source": [
    ">**Fuzzy matching:** The process of automatically finding text strings that are very similar to the target string. In general, a string is considered \"closer\" to another one the fewer characters you'd need to change if you were transforming one string into another. So \"apple\" and \"snapple\" are two changes away from each other (add \"s\" and \"n\") while \"in\" and \"on\" and one change away (rplace \"i\" with \"o\"). You won't always be able to rely on fuzzy matching 100%, but it will usually end up saving you at least a little time.\n",
    "\n",
    "This sounds a lot like aligning two protein or DNA sequences."
   ]
  },
  {
   "cell_type": "markdown",
   "metadata": {},
   "source": [
    "### The first city name <a id='city-one'></a>\n",
    "[TOC](#TOC)"
   ]
  },
  {
   "cell_type": "code",
   "execution_count": 71,
   "metadata": {},
   "outputs": [
    {
     "data": {
      "text/plain": [
       "[('d. i khan', 100),\n",
       " ('d.i khan', 100),\n",
       " ('d.g khan', 88),\n",
       " ('khanewal', 50),\n",
       " ('sudhanoti', 47),\n",
       " ('hangu', 46),\n",
       " ('kohat', 46),\n",
       " ('dara adam khel', 45),\n",
       " ('chaman', 43),\n",
       " ('mardan', 43)]"
      ]
     },
     "execution_count": 71,
     "metadata": {},
     "output_type": "execute_result"
    }
   ],
   "source": [
    "# get the top 10 closest matches to \"d.i khan\"\n",
    "matches = fuzzywuzzy.process.extract(\"d.i khan\", cities, limit=10, \n",
    "                                     scorer=fuzzywuzzy.fuzz.token_sort_ratio)\n",
    "# take a look at the matches\n",
    "matches"
   ]
  },
  {
   "cell_type": "code",
   "execution_count": 72,
   "metadata": {
    "collapsed": true
   },
   "outputs": [],
   "source": [
    "# function to replace rows in the provided column of the provided dataframe\n",
    "# that match the provided string above the provided ratio\n",
    "def replace_matches_in_column(df, column, string_to_match, min_ratio=90):\n",
    "    # get a list of unique strings\n",
    "    strings = df[column].unique()\n",
    "    \n",
    "    # get the top 10 closest matches to our input string\n",
    "    matches = fuzzywuzzy.process.extract(string_to_match, strings, limit=10,\n",
    "                                         scorer=fuzzywuzzy.fuzz.token_sort_ratio)\n",
    "    \n",
    "    # only get matches with a ratio > 90\n",
    "    close_matches = [matches[0] for matches in matches if matches[1] >= min_ratio]\n",
    "    \n",
    "    # get the rows of all the close matches\n",
    "    rows_with_matches = df[column].isin(close_matches)\n",
    "    \n",
    "    # replace all close match rows with input matches\n",
    "    df.loc[rows_with_matches, column] = string_to_match\n",
    "    \n",
    "    print(\"All done!\")"
   ]
  },
  {
   "cell_type": "code",
   "execution_count": 73,
   "metadata": {},
   "outputs": [
    {
     "name": "stdout",
     "output_type": "stream",
     "text": [
      "All done!\n"
     ]
    }
   ],
   "source": [
    "replace_matches_in_column(df=suicide_attacks, column='City', string_to_match='d.i khan')"
   ]
  },
  {
   "cell_type": "code",
   "execution_count": 74,
   "metadata": {
    "scrolled": true
   },
   "outputs": [
    {
     "name": "stdout",
     "output_type": "stream",
     "text": [
      "attock\n",
      "bajaur agency\n",
      "bannu\n",
      "bhakkar\n",
      "buner\n",
      "chakwal\n",
      "chaman\n",
      "charsadda\n",
      "d.g khan\n",
      "d.i khan\n",
      "dara adam khel\n",
      "fateh jang\n",
      "ghallanai, mohmand agency\n",
      "gujrat\n",
      "hangu\n",
      "haripur\n",
      "hayatabad\n",
      "islamabad\n",
      "jacobabad\n",
      "karachi\n",
      "karak\n",
      "khanewal\n",
      "khuzdar\n",
      "khyber agency\n",
      "kohat\n",
      "kuram agency\n",
      "kurram agency\n",
      "lahore\n",
      "lakki marwat\n",
      "lasbela\n",
      "lower dir\n",
      "malakand\n",
      "mansehra\n",
      "mardan\n",
      "mohmand agency\n",
      "mosal kor, mohmand agency\n",
      "multan\n",
      "muzaffarabad\n",
      "north waziristan\n",
      "nowshehra\n",
      "orakzai agency\n",
      "peshawar\n",
      "pishin\n",
      "poonch\n",
      "quetta\n",
      "rawalpindi\n",
      "sargodha\n",
      "sehwan town\n",
      "shabqadar-charsadda\n",
      "shangla\n",
      "shikarpur\n",
      "sialkot\n",
      "south waziristan\n",
      "sudhanoti\n",
      "sukkur\n",
      "swabi\n",
      "swat\n",
      "taftan\n",
      "tangi, charsadda district\n",
      "tank\n",
      "taunsa\n",
      "tirah valley\n",
      "totalai\n",
      "upper dir\n",
      "wagah\n",
      "zhob\n"
     ]
    }
   ],
   "source": [
    "cities = suicide_attacks['City'].unique()\n",
    "cities.sort()\n",
    "for i in cities:\n",
    "    print(i)"
   ]
  },
  {
   "cell_type": "markdown",
   "metadata": {},
   "source": [
    "### The second city name <a id='city-two'></a>\n",
    "[TOC](#TOC)"
   ]
  },
  {
   "cell_type": "code",
   "execution_count": 75,
   "metadata": {},
   "outputs": [
    {
     "data": {
      "text/plain": [
       "[('kuram agency', 100),\n",
       " ('kurram agency', 96),\n",
       " ('bajaur agency', 72),\n",
       " ('khyber agency', 72),\n",
       " ('orakzai agency', 69),\n",
       " ('mohmand agency', 62),\n",
       " ('mosal kor, mohmand agency', 61),\n",
       " ('ghallanai, mohmand agency', 50),\n",
       " ('gujrat', 44),\n",
       " ('d.g khan', 40)]"
      ]
     },
     "execution_count": 75,
     "metadata": {},
     "output_type": "execute_result"
    }
   ],
   "source": [
    "matches = fuzzywuzzy.process.extract(\"kuram agency\", cities, limit=10,\n",
    "                                     scorer=fuzzywuzzy.fuzz.token_sort_ratio)\n",
    "matches"
   ]
  },
  {
   "cell_type": "markdown",
   "metadata": {},
   "source": [
    "So the cutoff should be >95."
   ]
  },
  {
   "cell_type": "code",
   "execution_count": 76,
   "metadata": {},
   "outputs": [
    {
     "name": "stdout",
     "output_type": "stream",
     "text": [
      "All done!\n"
     ]
    }
   ],
   "source": [
    "replace_matches_in_column(df=suicide_attacks, column='City', string_to_match='kuram agency', min_ratio=95)"
   ]
  },
  {
   "cell_type": "code",
   "execution_count": 77,
   "metadata": {
    "scrolled": true
   },
   "outputs": [
    {
     "name": "stdout",
     "output_type": "stream",
     "text": [
      "attock\n",
      "bajaur agency\n",
      "bannu\n",
      "bhakkar\n",
      "buner\n",
      "chakwal\n",
      "chaman\n",
      "charsadda\n",
      "d.g khan\n",
      "d.i khan\n",
      "dara adam khel\n",
      "fateh jang\n",
      "ghallanai, mohmand agency\n",
      "gujrat\n",
      "hangu\n",
      "haripur\n",
      "hayatabad\n",
      "islamabad\n",
      "jacobabad\n",
      "karachi\n",
      "karak\n",
      "khanewal\n",
      "khuzdar\n",
      "khyber agency\n",
      "kohat\n",
      "kuram agency\n",
      "lahore\n",
      "lakki marwat\n",
      "lasbela\n",
      "lower dir\n",
      "malakand\n",
      "mansehra\n",
      "mardan\n",
      "mohmand agency\n",
      "mosal kor, mohmand agency\n",
      "multan\n",
      "muzaffarabad\n",
      "north waziristan\n",
      "nowshehra\n",
      "orakzai agency\n",
      "peshawar\n",
      "pishin\n",
      "poonch\n",
      "quetta\n",
      "rawalpindi\n",
      "sargodha\n",
      "sehwan town\n",
      "shabqadar-charsadda\n",
      "shangla\n",
      "shikarpur\n",
      "sialkot\n",
      "south waziristan\n",
      "sudhanoti\n",
      "sukkur\n",
      "swabi\n",
      "swat\n",
      "taftan\n",
      "tangi, charsadda district\n",
      "tank\n",
      "taunsa\n",
      "tirah valley\n",
      "totalai\n",
      "upper dir\n",
      "wagah\n",
      "zhob\n"
     ]
    }
   ],
   "source": [
    "cities = suicide_attacks['City'].unique()\n",
    "cities.sort()\n",
    "for i in cities:\n",
    "    print(i)"
   ]
  },
  {
   "cell_type": "markdown",
   "metadata": {},
   "source": [
    "## Extra work <a id='extra-work'></a>\n",
    "[TOC](#TOC)"
   ]
  },
  {
   "cell_type": "code",
   "execution_count": 78,
   "metadata": {},
   "outputs": [
    {
     "data": {
      "text/plain": [
       "Index(['S#', 'Date', 'Islamic Date', 'Blast Day Type', 'Holiday Type', 'Time',\n",
       "       'City', 'Latitude', 'Longitude', 'Province', 'Location',\n",
       "       'Location Category', 'Location Sensitivity', 'Open/Closed Space',\n",
       "       'Influencing Event/Event', 'Target Type', 'Targeted Sect if any',\n",
       "       'Killed Min', 'Killed Max', 'Injured Min', 'Injured Max',\n",
       "       'No. of Suicide Blasts', 'Explosive Weight (max)', 'Hospital Names',\n",
       "       'Temperature(C)', 'Temperature(F)'],\n",
       "      dtype='object')"
      ]
     },
     "execution_count": 78,
     "metadata": {},
     "output_type": "execute_result"
    }
   ],
   "source": [
    "suicide_attacks.columns"
   ]
  },
  {
   "cell_type": "code",
   "execution_count": 102,
   "metadata": {},
   "outputs": [
    {
     "name": "stdout",
     "output_type": "stream",
     "text": [
      "Ashura\n",
      "Christmas/birthday of Quaid-e-Azam\n",
      "Defence Day\n",
      "Eid Holidays\n",
      "General Elections\n",
      "Iqbal Day\n",
      "Labour Day\n",
      "Pakistan Day\n",
      "Weekend\n"
     ]
    }
   ],
   "source": [
    "day_type = suicide_attacks['Holiday Type'].dropna().unique()\n",
    "day_type.sort()\n",
    "for i in day_type:\n",
    "    print(i)"
   ]
  },
  {
   "cell_type": "code",
   "execution_count": 82,
   "metadata": {
    "collapsed": true
   },
   "outputs": [],
   "source": [
    "def matches(string, series):\n",
    "    _matches = fuzzywuzzy.process.extract(string, series, limit=10,\n",
    "                                          scorer=fuzzywuzzy.fuzz.token_sort_ratio)\n",
    "    return _matches"
   ]
  },
  {
   "cell_type": "code",
   "execution_count": 100,
   "metadata": {},
   "outputs": [
    {
     "data": {
      "text/plain": [
       "[('Christmas/ birthday of Quaid-e-Azam', 100),\n",
       " ('Christmas/birthday of Quaid-e-Azam', 100),\n",
       " ('Pakistan Day', 35),\n",
       " ('Iqbal Day', 33),\n",
       " ('Labour Day', 32),\n",
       " ('Eid Holidays', 30),\n",
       " ('Defence Day', 27),\n",
       " ('General Elections', 24),\n",
       " ('Ashura', 20),\n",
       " ('Weekend', 10)]"
      ]
     },
     "execution_count": 100,
     "metadata": {},
     "output_type": "execute_result"
    }
   ],
   "source": [
    "matches(\"Christmas/birthday of Quaid-e-Azam\", day_type)"
   ]
  },
  {
   "cell_type": "markdown",
   "metadata": {},
   "source": [
    "So I'm going to set the min_ratio to 40 and replace all of the Eid... holidays."
   ]
  },
  {
   "cell_type": "code",
   "execution_count": 85,
   "metadata": {},
   "outputs": [
    {
     "name": "stdout",
     "output_type": "stream",
     "text": [
      "All done!\n"
     ]
    }
   ],
   "source": [
    "replace_matches_in_column(suicide_attacks, \"Holiday Type\",\n",
    "                          \"Eid-ul-azha\", min_ratio=70)"
   ]
  },
  {
   "cell_type": "code",
   "execution_count": 93,
   "metadata": {},
   "outputs": [
    {
     "name": "stdout",
     "output_type": "stream",
     "text": [
      "All done!\n"
     ]
    }
   ],
   "source": [
    "replace_matches_in_column(suicide_attacks, \"Holiday Type\",\n",
    "                          \"Ashura\", min_ratio=59)"
   ]
  },
  {
   "cell_type": "code",
   "execution_count": 97,
   "metadata": {},
   "outputs": [
    {
     "name": "stdout",
     "output_type": "stream",
     "text": [
      "All done!\n"
     ]
    }
   ],
   "source": [
    "replace_matches_in_column(suicide_attacks, \"Holiday Type\",\n",
    "                          \"Eid Holidays\", min_ratio=40)"
   ]
  },
  {
   "cell_type": "code",
   "execution_count": 101,
   "metadata": {},
   "outputs": [
    {
     "name": "stdout",
     "output_type": "stream",
     "text": [
      "All done!\n"
     ]
    }
   ],
   "source": [
    "replace_matches_in_column(suicide_attacks, \"Holiday Type\",\n",
    "                          \"Christmas/birthday of Quaid-e-Azam\", min_ratio=90)"
   ]
  },
  {
   "cell_type": "code",
   "execution_count": null,
   "metadata": {
    "collapsed": true
   },
   "outputs": [],
   "source": []
  }
 ],
 "metadata": {
  "kernelspec": {
   "display_name": "Python 3",
   "language": "python",
   "name": "python3"
  },
  "language_info": {
   "codemirror_mode": {
    "name": "ipython",
    "version": 3
   },
   "file_extension": ".py",
   "mimetype": "text/x-python",
   "name": "python",
   "nbconvert_exporter": "python",
   "pygments_lexer": "ipython3",
   "version": "3.6.1"
  }
 },
 "nbformat": 4,
 "nbformat_minor": 2
}
